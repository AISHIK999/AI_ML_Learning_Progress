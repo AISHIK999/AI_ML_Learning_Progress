{
 "cells": [
  {
   "cell_type": "markdown",
   "metadata": {
    "pycharm": {
     "name": "#%% md\n"
    }
   },
   "source": [
    "# Day 5"
   ]
  },
  {
   "cell_type": "markdown",
   "metadata": {
    "pycharm": {
     "name": "#%% md\n"
    }
   },
   "source": [
    "## Import necessary libraries"
   ]
  },
  {
   "cell_type": "code",
   "execution_count": 1,
   "metadata": {
    "pycharm": {
     "name": "#%%\n"
    }
   },
   "outputs": [],
   "source": [
    "from sklearn.datasets import load_iris\n",
    "import pandas as pd\n",
    "from sklearn.model_selection import train_test_split\n",
    "from sklearn.neighbors import KNeighborsClassifier\n",
    "from sklearn.metrics import accuracy_score\n",
    "from matplotlib import pyplot as plt"
   ]
  },
  {
   "cell_type": "markdown",
   "metadata": {
    "pycharm": {
     "name": "#%% md\n"
    }
   },
   "source": [
    "## Load the dataset"
   ]
  },
  {
   "cell_type": "code",
   "execution_count": 2,
   "metadata": {
    "pycharm": {
     "name": "#%%\n"
    }
   },
   "outputs": [
    {
     "data": {
      "text/html": [
       "<div>\n",
       "<style scoped>\n",
       "    .dataframe tbody tr th:only-of-type {\n",
       "        vertical-align: middle;\n",
       "    }\n",
       "\n",
       "    .dataframe tbody tr th {\n",
       "        vertical-align: top;\n",
       "    }\n",
       "\n",
       "    .dataframe thead th {\n",
       "        text-align: right;\n",
       "    }\n",
       "</style>\n",
       "<table border=\"1\" class=\"dataframe\">\n",
       "  <thead>\n",
       "    <tr style=\"text-align: right;\">\n",
       "      <th></th>\n",
       "      <th>sepal length (cm)</th>\n",
       "      <th>sepal width (cm)</th>\n",
       "      <th>petal length (cm)</th>\n",
       "      <th>petal width (cm)</th>\n",
       "    </tr>\n",
       "  </thead>\n",
       "  <tbody>\n",
       "    <tr>\n",
       "      <th>0</th>\n",
       "      <td>5.1</td>\n",
       "      <td>3.5</td>\n",
       "      <td>1.4</td>\n",
       "      <td>0.2</td>\n",
       "    </tr>\n",
       "    <tr>\n",
       "      <th>1</th>\n",
       "      <td>4.9</td>\n",
       "      <td>3.0</td>\n",
       "      <td>1.4</td>\n",
       "      <td>0.2</td>\n",
       "    </tr>\n",
       "    <tr>\n",
       "      <th>2</th>\n",
       "      <td>4.7</td>\n",
       "      <td>3.2</td>\n",
       "      <td>1.3</td>\n",
       "      <td>0.2</td>\n",
       "    </tr>\n",
       "    <tr>\n",
       "      <th>3</th>\n",
       "      <td>4.6</td>\n",
       "      <td>3.1</td>\n",
       "      <td>1.5</td>\n",
       "      <td>0.2</td>\n",
       "    </tr>\n",
       "    <tr>\n",
       "      <th>4</th>\n",
       "      <td>5.0</td>\n",
       "      <td>3.6</td>\n",
       "      <td>1.4</td>\n",
       "      <td>0.2</td>\n",
       "    </tr>\n",
       "  </tbody>\n",
       "</table>\n",
       "</div>"
      ],
      "text/plain": [
       "   sepal length (cm)  sepal width (cm)  petal length (cm)  petal width (cm)\n",
       "0                5.1               3.5                1.4               0.2\n",
       "1                4.9               3.0                1.4               0.2\n",
       "2                4.7               3.2                1.3               0.2\n",
       "3                4.6               3.1                1.5               0.2\n",
       "4                5.0               3.6                1.4               0.2"
      ]
     },
     "execution_count": 2,
     "metadata": {},
     "output_type": "execute_result"
    }
   ],
   "source": [
    "iris = load_iris()\n",
    "data = pd.DataFrame(iris.data,columns = iris.feature_names)\n",
    "data.head()"
   ]
  },
  {
   "cell_type": "markdown",
   "metadata": {
    "pycharm": {
     "name": "#%% md\n"
    }
   },
   "source": [
    "## Train the dataset"
   ]
  },
  {
   "cell_type": "code",
   "execution_count": 3,
   "metadata": {
    "pycharm": {
     "name": "#%%\n"
    }
   },
   "outputs": [
    {
     "name": "stdout",
     "output_type": "stream",
     "text": [
      "96.0\n"
     ]
    }
   ],
   "source": [
    "data['Species'] = pd.DataFrame(iris.target) # Add a column with the target values. The target here is the species.\n",
    "'''\n",
    "data.iloc means that we are using the index location, which is specified through the iloc[row,column]\n",
    ": means we are using all the rows/columns\n",
    "1 means we are using the first row/column\n",
    "-1 means we are using the last row/column\n",
    ":, :-1 means that we are using all the rows and all the columns except the last one. We use these data (X) to train our model.\n",
    ":, -1 means that we are using all the rows and the last column. We use these data (y) to test our model.\n",
    "'''\n",
    "X = data.iloc[:,:-1]    # DataFrame of the features\n",
    "y = data.iloc[:,-1]    # DataFrame of the target\n",
    "X_train,X_test,y_train,y_test = train_test_split(X,y,test_size = 0.3)   # Split the data into training and testing sets. size 0.3 means that we are using 30% of the data for testing.\n",
    "model = KNeighborsClassifier(n_neighbors = 5)   # Create a KNN model with 5 neighbors. 5 neighbors mean that we are using 5 points to predict the target.\n",
    "model.fit(X_train,y_train)  # Train the model\n",
    "y_pred = model.predict(X_test)  # Predict the target\n",
    "print(accuracy_score(y_pred,y_test).round(2)*100)   # Print the accuracy of the model."
   ]
  },
  {
   "cell_type": "markdown",
   "metadata": {
    "pycharm": {
     "name": "#%% md\n"
    }
   },
   "source": [
    "## Run the tests and plot the results"
   ]
  },
  {
   "cell_type": "code",
   "execution_count": 4,
   "metadata": {
    "pycharm": {
     "name": "#%%\n"
    }
   },
   "outputs": [
    {
     "name": "stdout",
     "output_type": "stream",
     "text": [
      "1 : 96.0\n",
      "2 : 93.0\n",
      "3 : 96.0\n",
      "4 : 96.0\n",
      "5 : 96.0\n",
      "6 : 96.0\n",
      "7 : 96.0\n",
      "8 : 96.0\n",
      "9 : 96.0\n",
      "10 : 96.0\n",
      "11 : 96.0\n",
      "12 : 96.0\n",
      "13 : 93.0\n",
      "14 : 96.0\n",
      "15 : 93.0\n",
      "16 : 96.0\n",
      "17 : 96.0\n",
      "18 : 93.0\n",
      "19 : 96.0\n",
      "20 : 93.0\n",
      "21 : 91.0\n",
      "22 : 91.0\n",
      "23 : 93.0\n",
      "24 : 93.0\n",
      "25 : 93.0\n"
     ]
    },
    {
     "data": {
      "image/png": "[encoded data removed]",
      "text/plain": [
       "<Figure size 432x288 with 1 Axes>"
      ]
     },
     "metadata": {
      "needs_background": "light"
     },
     "output_type": "display_data"
    }
   ],
   "source": [
    "\n",
    "score = []  # Create an empty list to store the accuracy of the model we will use later on.\n",
    "k_range = range(1,26)   # Create a range of numbers from 1 to 25. We will use this range to limit our model testing loop.\n",
    "\n",
    "'''\n",
    "We will now use a for loop to test our model with different values of k, for 25 loops.\n",
    "Each loop will increment the number of neighbors by 1.\n",
    "We will then train and test our data, printing the accuracy of each model after each loop.\n",
    "We will continue to append the scored in out dataset, which we will then use to plot an accuracy graph.\n",
    "'''\n",
    "for k in k_range:\n",
    "    model = KNeighborsClassifier(n_neighbors = k)   # Create a KNN model with k neighbors.\n",
    "    model.fit(X_train,y_train)  # Train the model\n",
    "    y_pred = model.predict(X_test)  # Predict the target\n",
    "    score.append(accuracy_score(y_pred,y_test).round(2)*100)    # Append the accuracy of the model to the score list.\n",
    "    print(k,':',score[k-1])  # Print the accuracy of the model.\n",
    "\n",
    "\n",
    "%matplotlib inline\n",
    "plt.plot(k_range,score)  # Plot the accuracy graph as neighbours v/s accuracy score.\n",
    "plt.xlabel('Neighbors')  # Label the x-axis.\n",
    "plt.ylabel('Accuracy')  # Label the y-axis.\n",
    "plt.show()  # Show the graph."
   ]
  }
 ],
 "metadata": {
  "interpreter": {
   "hash": "d9a4ba7a39ad5692da286452aea182a2f639774b342ad6371c4f013f8b98072d"
  },
  "kernelspec": {
   "display_name": "Python 3.10.4 64-bit",
   "language": "python",
   "name": "python3"
  },
  "language_info": {
   "codemirror_mode": {
    "name": "ipython",
    "version": 3
   },
   "file_extension": ".py",
   "mimetype": "text/x-python",
   "name": "python",
   "nbconvert_exporter": "python",
   "pygments_lexer": "ipython3",
   "version": "3.10.4"
  },
  "orig_nbformat": 4
 },
 "nbformat": 4,
 "nbformat_minor": 2
}