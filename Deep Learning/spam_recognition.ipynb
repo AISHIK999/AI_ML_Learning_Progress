{
 "cells": [
  {
   "cell_type": "markdown",
   "source": [
    "# Spam recognition"
   ],
   "metadata": {
    "collapsed": false,
    "pycharm": {
     "name": "#%% md\n"
    }
   }
  },
  {
   "cell_type": "markdown",
   "source": [
    "## Mark a file as spam or not-spam based on a given set of keywords"
   ],
   "metadata": {
    "collapsed": false,
    "pycharm": {
     "name": "#%% md\n"
    }
   }
  },
  {
   "cell_type": "code",
   "execution_count": 6,
   "outputs": [
    {
     "name": "stderr",
     "output_type": "stream",
     "text": [
      "[nltk_data] Downloading package stopwords to\n",
      "[nltk_data]     C:\\Users\\aishi\\AppData\\Roaming\\nltk_data...\n",
      "[nltk_data]   Package stopwords is already up-to-date!\n",
      "[nltk_data] Downloading package punkt to\n",
      "[nltk_data]     C:\\Users\\aishi\\AppData\\Roaming\\nltk_data...\n",
      "[nltk_data]   Package punkt is already up-to-date!\n",
      "[nltk_data] Downloading package wordnet to\n",
      "[nltk_data]     C:\\Users\\aishi\\AppData\\Roaming\\nltk_data...\n",
      "[nltk_data]   Package wordnet is already up-to-date!\n",
      "[nltk_data] Downloading package omw-1.4 to\n",
      "[nltk_data]     C:\\Users\\aishi\\AppData\\Roaming\\nltk_data...\n"
     ]
    }
   ],
   "source": [
    "# Since the data is unstructured, we need to\n",
    "# 1. Clean the dataste\n",
    "# 2. Remove stop words\n",
    "# 3. Lemmatize (group similar words from the dataset)\n",
    "# 4. Numeric representation of text data before passing into the model\n",
    "\n",
    "# Import libraries\n",
    "\n",
    "import nltk\n",
    "from nltk.stem import WordNetLemmatizer\n",
    "from nltk.corpus import stopwords\n",
    "\n",
    "nltk.download('stopwords')\n",
    "nltk.download('punkt')\n",
    "nltk.download('wordnet')\n",
    "nltk.download('omw-1.4')\n",
    "\n",
    "lemmatizer = WordNetLemmatizer()"
   ],
   "metadata": {
    "collapsed": false,
    "pycharm": {
     "name": "#%%\n"
    }
   }
  },
  {
   "cell_type": "code",
   "execution_count": 7,
   "outputs": [
    {
     "name": "stdout",
     "output_type": "stream",
     "text": [
      "  CLASS                                                SMS\n",
      "0   ham   said kiss, kiss, i can't do the sound effects...\n",
      "1   ham      &lt;#&gt; ISH MINUTES WAS 5 MINUTES AGO. WTF.\n",
      "2  spam  (Bank of Granite issues Strong-Buy) EXPLOSIVE ...\n",
      "3  spam  * FREE* POLYPHONIC RINGTONE Text SUPER to 8713...\n",
      "4  spam  **FREE MESSAGE**Thanks for using the Auction S...\n"
     ]
    }
   ],
   "source": [
    "# Check the data\n",
    "import pandas as pd\n",
    "import numpy as np\n",
    "from sklearn.model_selection import train_test_split\n",
    "\n",
    "# Print the dataset\n",
    "spam_data = pd.read_csv(\"data/Spam-Classification.csv\")\n",
    "print(spam_data.head())\n",
    "\n",
    "# Create the feature and target variables\n",
    "spam_classes_raw = spam_data[\"CLASS\"]       # \"CLASS\" column contains the feature variable\n",
    "spam_messages = spam_data[\"SMS\"]            # \"SMS\" column contains the target variables: spam and ham (not spam)"
   ],
   "metadata": {
    "collapsed": false,
    "pycharm": {
     "name": "#%%\n"
    }
   }
  },
  {
   "cell_type": "markdown",
   "source": [
    "Remove stop words and sort the keywords in a lemmatized array"
   ],
   "metadata": {
    "collapsed": false,
    "pycharm": {
     "name": "#%% md\n"
    }
   }
  },
  {
   "cell_type": "code",
   "execution_count": 8,
   "outputs": [],
   "source": [
    "import nltk\n",
    "import tensorflow as tf\n",
    "\n",
    "from sklearn.feature_extraction.text import TfidfVectorizer\n",
    "\n",
    "# Use custom tokenizer to remove stop words and lemmatize the data\n",
    "def customTokenizer(keyword):\n",
    "    tokens=nltk.word_tokenize(keyword)      #Split string as tokens\n",
    "    clear_stopwords = list(filter(lambda token: token not in stopwords.words('english'), tokens))        # Filter for stopwords\n",
    "\n",
    "    #Perform lemmatization\n",
    "    lemmatized_data=[lemmatizer.lemmatize(word) for word in clear_stopwords ]\n",
    "    return lemmatized_data\n",
    "\n",
    "\n",
    "\n",
    "# TF-IDF Vectorizer\n",
    "vectorizer = TfidfVectorizer(tokenizer=customTokenizer)\n",
    "tfidf=vectorizer.fit_transform(spam_messages)               # Transform feature input to TF-IDF\n",
    "tfidf_array = tfidf.toarray()                               #Convert TF-IDF to numpy array"
   ],
   "metadata": {
    "collapsed": false,
    "pycharm": {
     "name": "#%%\n"
    }
   }
  },
  {
   "cell_type": "markdown",
   "source": [
    "Use label encoder to convert string to numeric data"
   ],
   "metadata": {
    "collapsed": false,
    "pycharm": {
     "name": "#%% md\n"
    }
   }
  },
  {
   "cell_type": "code",
   "execution_count": 9,
   "outputs": [
    {
     "name": "stdout",
     "output_type": "stream",
     "text": [
      "TF-IDF Matrix Shape :  (1500, 4569)\n",
      "One-hot Encoding Shape :  (1500, 2)\n"
     ]
    }
   ],
   "source": [
    "from sklearn import preprocessing\n",
    "label_encoder = preprocessing.LabelEncoder()\n",
    "spam_classes = label_encoder.fit_transform(\n",
    "    spam_classes_raw)\n",
    "\n",
    "spam_classes = tf.keras.utils.to_categorical(spam_classes,2)    # Convert target variable to one-hot encoding vector\n",
    "\n",
    "print(\"TF-IDF Matrix Shape : \", tfidf.shape)\n",
    "print(\"One-hot Encoding Shape : \", spam_classes.shape)\n",
    "\n",
    "X_train,X_test,Y_train,Y_test = train_test_split( tfidf_array, spam_classes, test_size=0.10)        # Test data size is 10% of dataset"
   ],
   "metadata": {
    "collapsed": false,
    "pycharm": {
     "name": "#%%\n"
    }
   }
  },
  {
   "cell_type": "markdown",
   "source": [
    "Create the DNN model"
   ],
   "metadata": {
    "collapsed": false,
    "pycharm": {
     "name": "#%% md\n"
    }
   }
  },
  {
   "cell_type": "code",
   "execution_count": 10,
   "outputs": [
    {
     "name": "stdout",
     "output_type": "stream",
     "text": [
      "Model: \"sequential\"\n",
      "_________________________________________________________________\n",
      " Layer (type)                Output Shape              Param #   \n",
      "=================================================================\n",
      " first_hidden_layer (Dense)  (None, 32)                146240    \n",
      "                                                                 \n",
      " second_hidden_layer (Dense)  (None, 32)               1056      \n",
      "                                                                 \n",
      " output_layer (Dense)        (None, 2)                 66        \n",
      "                                                                 \n",
      "=================================================================\n",
      "Total params: 147,362\n",
      "Trainable params: 147,362\n",
      "Non-trainable params: 0\n",
      "_________________________________________________________________\n"
     ]
    }
   ],
   "source": [
    "from tensorflow import keras\n",
    "\n",
    "class_num = 2\n",
    "\n",
    "neural_network_model = tf.keras.models.Sequential()\n",
    "\n",
    "neural_network_model.add(keras.layers.Dense(32,        # 32 nodes in hidden layer 1\n",
    "                             input_shape=(X_train.shape[1],),       # Pass all the keywords present in the numpy array\n",
    "                             name='first_hidden_layer',\n",
    "                             activation='relu'))                    # Activation function\n",
    "\n",
    "neural_network_model.add(keras.layers.Dense(32,                                    # 32 nodes in hidden layer 2\n",
    "                             name='second_hidden_layer',\n",
    "                             activation='relu'))                    # Activation function\n",
    "\n",
    "neural_network_model.add(keras.layers.Dense(class_num,\n",
    "                             name='output_layer',\n",
    "                             activation='softmax'))\n",
    "\n",
    "neural_network_model.compile(loss='categorical_crossentropy',\n",
    "              metrics=['accuracy'])     # Rate our model based on accuracy of output\n",
    "\n",
    "neural_network_model.summary()"
   ],
   "metadata": {
    "collapsed": false,
    "pycharm": {
     "name": "#%%\n"
    }
   }
  },
  {
   "cell_type": "markdown",
   "source": [
    "Train the DNN model"
   ],
   "metadata": {
    "collapsed": false,
    "pycharm": {
     "name": "#%% md\n"
    }
   }
  },
  {
   "cell_type": "code",
   "execution_count": 11,
   "outputs": [
    {
     "name": "stdout",
     "output_type": "stream",
     "text": [
      "Epoch 1/20\n",
      "5/5 [==============================] - 1s 78ms/step - loss: 0.6868 - accuracy: 0.5630 - val_loss: 0.6698 - val_accuracy: 0.7519\n",
      "Epoch 2/20\n",
      "5/5 [==============================] - 0s 12ms/step - loss: 0.6500 - accuracy: 0.8519 - val_loss: 0.6336 - val_accuracy: 0.8815\n",
      "Epoch 3/20\n",
      "5/5 [==============================] - 0s 12ms/step - loss: 0.6018 - accuracy: 0.9546 - val_loss: 0.5922 - val_accuracy: 0.8926\n",
      "Epoch 4/20\n",
      "5/5 [==============================] - 0s 12ms/step - loss: 0.5475 - accuracy: 0.9694 - val_loss: 0.5488 - val_accuracy: 0.9259\n",
      "Epoch 5/20\n",
      "5/5 [==============================] - 0s 16ms/step - loss: 0.4915 - accuracy: 0.9815 - val_loss: 0.5060 - val_accuracy: 0.9296\n",
      "Epoch 6/20\n",
      "5/5 [==============================] - 0s 18ms/step - loss: 0.4358 - accuracy: 0.9852 - val_loss: 0.4636 - val_accuracy: 0.9259\n",
      "Epoch 7/20\n",
      "5/5 [==============================] - 0s 15ms/step - loss: 0.3822 - accuracy: 0.9870 - val_loss: 0.4217 - val_accuracy: 0.9259\n",
      "Epoch 8/20\n",
      "5/5 [==============================] - 0s 16ms/step - loss: 0.3318 - accuracy: 0.9907 - val_loss: 0.3839 - val_accuracy: 0.9259\n",
      "Epoch 9/20\n",
      "5/5 [==============================] - 0s 12ms/step - loss: 0.2848 - accuracy: 0.9926 - val_loss: 0.3499 - val_accuracy: 0.9259\n",
      "Epoch 10/20\n",
      "5/5 [==============================] - 0s 12ms/step - loss: 0.2426 - accuracy: 0.9917 - val_loss: 0.3166 - val_accuracy: 0.9370\n",
      "Epoch 11/20\n",
      "5/5 [==============================] - 0s 16ms/step - loss: 0.2056 - accuracy: 0.9944 - val_loss: 0.2913 - val_accuracy: 0.9333\n",
      "Epoch 12/20\n",
      "5/5 [==============================] - 0s 16ms/step - loss: 0.1728 - accuracy: 0.9954 - val_loss: 0.2655 - val_accuracy: 0.9370\n",
      "Epoch 13/20\n",
      "5/5 [==============================] - 0s 12ms/step - loss: 0.1443 - accuracy: 0.9963 - val_loss: 0.2444 - val_accuracy: 0.9370\n",
      "Epoch 14/20\n",
      "5/5 [==============================] - 0s 16ms/step - loss: 0.1199 - accuracy: 0.9963 - val_loss: 0.2244 - val_accuracy: 0.9481\n",
      "Epoch 15/20\n",
      "5/5 [==============================] - 0s 16ms/step - loss: 0.0992 - accuracy: 0.9963 - val_loss: 0.2093 - val_accuracy: 0.9481\n",
      "Epoch 16/20\n",
      "5/5 [==============================] - 0s 16ms/step - loss: 0.0815 - accuracy: 0.9972 - val_loss: 0.1975 - val_accuracy: 0.9481\n",
      "Epoch 17/20\n",
      "5/5 [==============================] - 0s 12ms/step - loss: 0.0671 - accuracy: 0.9981 - val_loss: 0.1842 - val_accuracy: 0.9519\n",
      "Epoch 18/20\n",
      "5/5 [==============================] - 0s 12ms/step - loss: 0.0549 - accuracy: 0.9981 - val_loss: 0.1774 - val_accuracy: 0.9519\n",
      "Epoch 19/20\n",
      "5/5 [==============================] - 0s 12ms/step - loss: 0.0450 - accuracy: 0.9981 - val_loss: 0.1706 - val_accuracy: 0.9519\n",
      "Epoch 20/20\n",
      "5/5 [==============================] - 0s 12ms/step - loss: 0.0367 - accuracy: 0.9991 - val_loss: 0.1614 - val_accuracy: 0.9593\n"
     ]
    },
    {
     "data": {
      "text/plain": "<Figure size 720x432 with 1 Axes>",
      "image/png": "[encoded data removed]"
     },
     "metadata": {
      "needs_background": "light"
     },
     "output_type": "display_data"
    },
    {
     "name": "stdout",
     "output_type": "stream",
     "text": [
      "5/5 [==============================] - 0s 4ms/step - loss: 0.1297 - accuracy: 0.9600\n"
     ]
    },
    {
     "data": {
      "text/plain": "[0.12973365187644958, 0.9599999785423279]"
     },
     "execution_count": 11,
     "metadata": {},
     "output_type": "execute_result"
    }
   ],
   "source": [
    "import matplotlib.pyplot as plt\n",
    "\n",
    "model_data=neural_network_model.fit(X_train,\n",
    "                  Y_train,\n",
    "                  batch_size=256,           # Batch size\n",
    "                  epochs=20,                # Epoch frequency\n",
    "                  verbose=1,                # Enable verbose logging\n",
    "                  validation_split=0.2)     # Use 20% if training data to validate the model after each epoch\n",
    "\n",
    "pd.DataFrame(model_data.history)[\"accuracy\"].plot(figsize=(10, 6))\n",
    "plt.title(\"Accuracy\")\n",
    "plt.show()\n",
    "neural_network_model.evaluate(X_test,Y_test)"
   ],
   "metadata": {
    "collapsed": false,
    "pycharm": {
     "name": "#%%\n"
    }
   }
  },
  {
   "cell_type": "markdown",
   "source": [
    "Save the model for use"
   ],
   "metadata": {
    "collapsed": false,
    "pycharm": {
     "name": "#%% md\n"
    }
   }
  },
  {
   "cell_type": "code",
   "execution_count": 12,
   "outputs": [
    {
     "name": "stdout",
     "output_type": "stream",
     "text": [
      "INFO:tensorflow:Assets written to: spam_prediction\\assets\n",
      "Model: \"sequential\"\n",
      "_________________________________________________________________\n",
      " Layer (type)                Output Shape              Param #   \n",
      "=================================================================\n",
      " first_hidden_layer (Dense)  (None, 32)                146240    \n",
      "                                                                 \n",
      " second_hidden_layer (Dense)  (None, 32)               1056      \n",
      "                                                                 \n",
      " output_layer (Dense)        (None, 2)                 66        \n",
      "                                                                 \n",
      "=================================================================\n",
      "Total params: 147,362\n",
      "Trainable params: 147,362\n",
      "Non-trainable params: 0\n",
      "_________________________________________________________________\n"
     ]
    }
   ],
   "source": [
    "neural_network_model.save(\"spam_prediction\")                    # Save model\n",
    "saved_spam_model = keras.models.load_model(\"spam_prediction\")   # Load model\n",
    "saved_spam_model.summary()                                      # Print model summary"
   ],
   "metadata": {
    "collapsed": false,
    "pycharm": {
     "name": "#%%\n"
    }
   }
  },
  {
   "cell_type": "markdown",
   "source": [
    "Test the model"
   ],
   "metadata": {
    "collapsed": false,
    "pycharm": {
     "name": "#%% md\n"
    }
   }
  },
  {
   "cell_type": "code",
   "execution_count": 13,
   "outputs": [
    {
     "name": "stdout",
     "output_type": "stream",
     "text": [
      "(2, 4569)\n",
      "1/1 [==============================] - 0s 109ms/step\n",
      "Prediction Output: [1 0]\n",
      "Prediction Classes are  ['spam' 'ham']\n"
     ]
    }
   ],
   "source": [
    "# Convert input into IF-IDF vector using the same vectorizer model\n",
    "predict_tfidf=vectorizer.transform([\"FREE entry to a fun contest\",\n",
    "                                    \"Yup I will come over\"]).toarray()      # Predict for multiple messages at once\n",
    "print(predict_tfidf.shape)\n",
    "\n",
    "# Predict using model\n",
    "prediction=np.argmax( neural_network_model.predict(predict_tfidf), axis=1 )\n",
    "print(\"Prediction Output:\" , prediction)\n",
    "print(\"Prediction Classes are \", label_encoder.inverse_transform(prediction))"
   ],
   "metadata": {
    "collapsed": false,
    "pycharm": {
     "name": "#%%\n"
    }
   }
  }
 ],
 "metadata": {
  "kernelspec": {
   "display_name": "Python 3",
   "language": "python",
   "name": "python3"
  },
  "language_info": {
   "codemirror_mode": {
    "name": "ipython",
    "version": 2
   },
   "file_extension": ".py",
   "mimetype": "text/x-python",
   "name": "python",
   "nbconvert_exporter": "python",
   "pygments_lexer": "ipython2",
   "version": "2.7.6"
  }
 },
 "nbformat": 4,
 "nbformat_minor": 0
}