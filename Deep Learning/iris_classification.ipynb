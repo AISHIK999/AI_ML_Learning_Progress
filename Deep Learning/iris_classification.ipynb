{
 "cells": [
  {
   "cell_type": "markdown",
   "source": [
    "# Classification of flowers based on given data"
   ],
   "metadata": {
    "collapsed": false,
    "pycharm": {
     "name": "#%% md\n"
    }
   }
  },
  {
   "cell_type": "markdown",
   "source": [
    "## A neural network model to classify flowers into their respective species based on some parameters (presented in the iris.csv dataset)"
   ],
   "metadata": {
    "collapsed": false,
    "pycharm": {
     "name": "#%% md\n"
    }
   }
  },
  {
   "cell_type": "markdown",
   "source": [
    "### Prepare the dataset for deep learning"
   ],
   "metadata": {
    "collapsed": false,
    "pycharm": {
     "name": "#%% md\n"
    }
   }
  },
  {
   "cell_type": "markdown",
   "source": [
    "1. Load the data into a pandas dataframe"
   ],
   "metadata": {
    "collapsed": false,
    "pycharm": {
     "name": "#%% md\n"
    }
   }
  },
  {
   "cell_type": "code",
   "execution_count": 1,
   "outputs": [
    {
     "name": "stdout",
     "output_type": "stream",
     "text": [
      "Iris dataframe:\n",
      "     Sepal.Length  Sepal.Width  Petal.Length  Petal.Width    Species\n",
      "0             5.1          3.5           1.4          0.2     setosa\n",
      "1             4.9          3.0           1.4          0.2     setosa\n",
      "2             4.7          3.2           1.3          0.2     setosa\n",
      "3             4.6          3.1           1.5          0.2     setosa\n",
      "4             5.0          3.6           1.4          0.2     setosa\n",
      "..            ...          ...           ...          ...        ...\n",
      "145           6.7          3.0           5.2          2.3  virginica\n",
      "146           6.3          2.5           5.0          1.9  virginica\n",
      "147           6.5          3.0           5.2          2.0  virginica\n",
      "148           6.2          3.4           5.4          2.3  virginica\n",
      "149           5.9          3.0           5.1          1.8  virginica\n",
      "\n",
      "[150 rows x 5 columns]\n"
     ]
    }
   ],
   "source": [
    "# Load the iris dataset into a pandas dataframe\n",
    "import pandas as pd\n",
    "\n",
    "iris_dataframe = pd.read_csv(\"data/iris.csv\")\n",
    "print(f\"Iris dataframe:\\n{iris_dataframe}\")"
   ],
   "metadata": {
    "collapsed": false,
    "pycharm": {
     "name": "#%%\n"
    }
   }
  },
  {
   "cell_type": "markdown",
   "source": [
    "2. Convert the string target variable \"Species\" into a numeric format"
   ],
   "metadata": {
    "collapsed": false,
    "pycharm": {
     "name": "#%% md\n"
    }
   }
  },
  {
   "cell_type": "code",
   "execution_count": 2,
   "outputs": [],
   "source": [
    "# sklearn label encoder converts string into numeric values\n",
    "# We will use the library to convert the \"species\" feature set, which is our target variable, into numeric values\n",
    "# This makes the data usable by our model\n",
    "from sklearn import preprocessing\n",
    "\n",
    "label_encoder = preprocessing.LabelEncoder()\n",
    "iris_dataframe[\"Species\"] = label_encoder.fit_transform(iris_dataframe[\"Species\"])\n",
    "\n",
    "# Convert the data into numpy array\n",
    "iris_numpy_array = iris_dataframe.to_numpy()"
   ],
   "metadata": {
    "collapsed": false,
    "pycharm": {
     "name": "#%%\n"
    }
   }
  },
  {
   "cell_type": "markdown",
   "source": [
    "3. Spilt the array dataset into feature and target variable"
   ],
   "metadata": {
    "collapsed": false,
    "pycharm": {
     "name": "#%% md\n"
    }
   }
  },
  {
   "cell_type": "code",
   "execution_count": 3,
   "outputs": [
    {
     "name": "stdout",
     "output_type": "stream",
     "text": [
      "Features before scaling:\n",
      "[[5.1 3.5 1.4 0.2]\n",
      " [4.9 3.  1.4 0.2]\n",
      " [4.7 3.2 1.3 0.2]\n",
      " [4.6 3.1 1.5 0.2]\n",
      " [5.  3.6 1.4 0.2]]\n",
      "\n",
      "Target before scaling:\n",
      "[0. 0. 0. 0. 0.]\n",
      "\n"
     ]
    }
   ],
   "source": [
    "# X represents feature variables and Y represents target variables\n",
    "\"\"\"\n",
    "[a , b] = select row index \"a\" and column index \"b\" respectively from a numpy array\n",
    "\n",
    "[0:a , :b] = select first \"a\" rows and first \"b\" columns (both representations are similar]\n",
    "\n",
    "[: , :] = select all rows and columns\n",
    "\n",
    "[a:x , b:y] = select all rows from row index \"a\" to row index \"x\" and select all columns from column index \"b\" to column index \"y\"\n",
    "\n",
    "[:-x , -y] = select all rows except the last \"x\" rows and select last \"y\" columns\n",
    "\"\"\"\n",
    "X_data = iris_numpy_array[:, 0:4]       # Select all rows and first 4 columns\n",
    "Y_data = iris_numpy_array[:, 4]         # Select all rows and 4th column index (\"Species\" target feature)\n",
    "\n",
    "print(f\"Features before scaling:\\n{X_data[:5, :]}\\n\")       # Print the features of first 5 rows and all corresponding columns\n",
    "print(f\"Target before scaling:\\n{Y_data[:5]}\\n\")            # Print the first 5 instances of the target (\"Y_data\") array"
   ],
   "metadata": {
    "collapsed": false,
    "pycharm": {
     "name": "#%%\n"
    }
   }
  },
  {
   "cell_type": "markdown",
   "source": [
    "4. Scale the input dataset"
   ],
   "metadata": {
    "collapsed": false,
    "pycharm": {
     "name": "#%% md\n"
    }
   }
  },
  {
   "cell_type": "code",
   "execution_count": 4,
   "outputs": [
    {
     "name": "stdout",
     "output_type": "stream",
     "text": [
      "Features after classification:\n",
      "[[-0.90068117  1.01900435 -1.34022653 -1.3154443 ]\n",
      " [-1.14301691 -0.13197948 -1.34022653 -1.3154443 ]\n",
      " [-1.38535265  0.32841405 -1.39706395 -1.3154443 ]\n",
      " [-1.50652052  0.09821729 -1.2833891  -1.3154443 ]\n",
      " [-1.02184904  1.24920112 -1.34022653 -1.3154443 ]]\n",
      "\n",
      "Target after one-hot encoding:\n",
      "[[1. 0. 0.]\n",
      " [1. 0. 0.]\n",
      " [1. 0. 0.]\n",
      " [1. 0. 0.]\n",
      " [1. 0. 0.]]\n",
      "\n"
     ]
    }
   ],
   "source": [
    "# From the feature variables, it can be seen that they need to scaled to the same level to be used by the neural network model\n",
    "# We will use the StandardScaler() from the sklearn library for this purpose\n",
    "# We use the one-hot encoding function on the target variable as this is a multi-class classification problem\n",
    "from sklearn.preprocessing import StandardScaler\n",
    "import tensorflow as tf\n",
    "\n",
    "# Create a scaler model that is fit on the input data\n",
    "scaler_model = StandardScaler().fit(X_data)\n",
    "\n",
    "# Scale the numeric feature variables\n",
    "X_data = scaler_model.transform(X_data)\n",
    "\n",
    "# Scale the target variable as one-hot encoding array\n",
    "Y_data = tf.keras.utils.to_categorical(Y_data, 3)   # We created 3 columns, each of which represents a species (\"setosa\", \"versicolor\" and \"virginica\") as shown in the dataset\n",
    "\n",
    "print(f\"Features after classification:\\n{X_data[:5, :]}\\n\")\n",
    "print(f\"Target after one-hot encoding:\\n{Y_data[:5, :]}\\n\")"
   ],
   "metadata": {
    "collapsed": false,
    "pycharm": {
     "name": "#%%\n"
    }
   }
  },
  {
   "cell_type": "markdown",
   "source": [
    "5. Split the scaled dataset into training and testing dataset"
   ],
   "metadata": {
    "collapsed": false,
    "pycharm": {
     "name": "#%% md\n"
    }
   }
  },
  {
   "cell_type": "code",
   "execution_count": 5,
   "outputs": [],
   "source": [
    "from sklearn.model_selection import train_test_split\n",
    "\n",
    "# Split the training dataset into testing and training dataset\n",
    "X_train, X_test, Y_train, Y_test = train_test_split(X_data, Y_data, test_size=0.1)      # Use 10% of the entire dataset for testing dataset"
   ],
   "metadata": {
    "collapsed": false,
    "pycharm": {
     "name": "#%%\n"
    }
   }
  },
  {
   "cell_type": "markdown",
   "source": [
    "### Create the Neural Network model"
   ],
   "metadata": {
    "collapsed": false,
    "pycharm": {
     "name": "#%% md\n"
    }
   }
  },
  {
   "cell_type": "code",
   "execution_count": 6,
   "outputs": [
    {
     "name": "stdout",
     "output_type": "stream",
     "text": [
      "Model: \"sequential\"\n",
      "_________________________________________________________________\n",
      " Layer (type)                Output Shape              Param #   \n",
      "=================================================================\n",
      " first_hidden_layer (Dense)  (None, 128)               640       \n",
      "                                                                 \n",
      " second_hidden_layer (Dense)  (None, 128)              16512     \n",
      "                                                                 \n",
      " output_layer (Dense)        (None, 3)                 387       \n",
      "                                                                 \n",
      "=================================================================\n",
      "Total params: 17,539\n",
      "Trainable params: 17,539\n",
      "Non-trainable params: 0\n",
      "_________________________________________________________________\n",
      "=================================================================\n",
      "First hidden layer has 128 nodes and 640 parameters\n",
      "Parameter = weight + bias\n",
      "Weight = input * node (4 * 128 = 512)\n",
      "Bias = Number of nodes (128)\n",
      "Thus the parameters = 512 + 128 = 640\n",
      "Similar case is present in all the layers\n"
     ]
    }
   ],
   "source": [
    "from tensorflow import keras\n",
    "\n",
    "class_num = 3       # There are 3 classes of flowers in the dataset\n",
    "neural_network_model = tf.keras.models.Sequential()     # Creating a sequential model\n",
    "\n",
    "# FIRST HIDDEN LAYER\n",
    "neural_network_model.add(keras.layers.Dense(128,    # 128 nodes\n",
    "                             input_shape=(4,),      # Provide with 4 inputs (sepal length and width, petal length and width\n",
    "                             name='first_hidden_layer',\n",
    "                             activation='relu'))    # Rectified linear unit activation function\n",
    "\n",
    "# SECOND HIDDEN LAYER\n",
    "neural_network_model.add(keras.layers.Dense(128,\n",
    "                             name='second_hidden_layer',\n",
    "                             activation='relu'))\n",
    "\n",
    "# OUTPUT LAYER\n",
    "neural_network_model.add(keras.layers.Dense(class_num,      # Number of classes of target variable (setosa, versicolor, virginica)\n",
    "                             name='output_layer',\n",
    "                             activation='softmax'))         # Activation function\n",
    "\n",
    "# Compile model uses categorical_crossentropy as this is a multi-class classification model\n",
    "# We will measure the accuracy. Our aim is to have greater accuracy\n",
    "neural_network_model.compile(loss='categorical_crossentropy', metrics=['accuracy'])\n",
    "\n",
    "# Model summary\n",
    "summary = neural_network_model.summary()\n",
    "print(\"=================================================================\\nFirst hidden layer has 128 nodes and 640 parameters\\nParameter = weight + bias\\nWeight = input * node (4 * 128 = 512)\\nBias = Number of nodes (128)\\nThus the parameters = 512 + 128 = 640\\nSimilar case is present in all the layers\")"
   ],
   "metadata": {
    "collapsed": false,
    "pycharm": {
     "name": "#%%\n"
    }
   }
  },
  {
   "cell_type": "markdown",
   "source": [
    "### Train and evaluate the model"
   ],
   "metadata": {
    "collapsed": false,
    "pycharm": {
     "name": "#%% md\n"
    }
   }
  },
  {
   "cell_type": "code",
   "execution_count": 7,
   "outputs": [
    {
     "name": "stdout",
     "output_type": "stream",
     "text": [
      "Epoch 1/20\n",
      "4/4 [==============================] - 2s 146ms/step - loss: 0.8854 - accuracy: 0.7315 - val_loss: 0.6501 - val_accuracy: 0.7407\n",
      "Epoch 2/20\n",
      "4/4 [==============================] - 0s 26ms/step - loss: 0.6051 - accuracy: 0.8333 - val_loss: 0.5274 - val_accuracy: 0.7407\n",
      "Epoch 3/20\n",
      "4/4 [==============================] - 0s 26ms/step - loss: 0.4935 - accuracy: 0.8241 - val_loss: 0.4695 - val_accuracy: 0.7407\n",
      "Epoch 4/20\n",
      "4/4 [==============================] - 0s 29ms/step - loss: 0.4293 - accuracy: 0.8241 - val_loss: 0.4104 - val_accuracy: 0.7778\n",
      "Epoch 5/20\n",
      "4/4 [==============================] - 0s 28ms/step - loss: 0.3909 - accuracy: 0.8519 - val_loss: 0.4073 - val_accuracy: 0.7778\n",
      "Epoch 6/20\n",
      "4/4 [==============================] - 0s 26ms/step - loss: 0.3574 - accuracy: 0.8333 - val_loss: 0.3683 - val_accuracy: 0.7778\n",
      "Epoch 7/20\n",
      "4/4 [==============================] - 0s 21ms/step - loss: 0.3329 - accuracy: 0.8611 - val_loss: 0.3560 - val_accuracy: 0.7778\n",
      "Epoch 8/20\n",
      "4/4 [==============================] - 0s 26ms/step - loss: 0.3114 - accuracy: 0.8519 - val_loss: 0.3418 - val_accuracy: 0.7778\n",
      "Epoch 9/20\n",
      "4/4 [==============================] - 0s 21ms/step - loss: 0.2949 - accuracy: 0.8611 - val_loss: 0.3516 - val_accuracy: 0.7778\n",
      "Epoch 10/20\n",
      "4/4 [==============================] - 0s 21ms/step - loss: 0.2745 - accuracy: 0.8519 - val_loss: 0.2975 - val_accuracy: 0.8148\n",
      "Epoch 11/20\n",
      "4/4 [==============================] - 0s 21ms/step - loss: 0.2586 - accuracy: 0.8704 - val_loss: 0.2771 - val_accuracy: 0.8519\n",
      "Epoch 12/20\n",
      "4/4 [==============================] - 0s 21ms/step - loss: 0.2437 - accuracy: 0.8981 - val_loss: 0.2949 - val_accuracy: 0.7778\n",
      "Epoch 13/20\n",
      "4/4 [==============================] - 0s 26ms/step - loss: 0.2284 - accuracy: 0.8981 - val_loss: 0.2361 - val_accuracy: 0.8889\n",
      "Epoch 14/20\n",
      "4/4 [==============================] - 0s 21ms/step - loss: 0.2168 - accuracy: 0.9074 - val_loss: 0.2336 - val_accuracy: 0.8889\n",
      "Epoch 15/20\n",
      "4/4 [==============================] - 0s 21ms/step - loss: 0.2114 - accuracy: 0.9259 - val_loss: 0.2206 - val_accuracy: 0.8889\n",
      "Epoch 16/20\n",
      "4/4 [==============================] - 0s 21ms/step - loss: 0.1932 - accuracy: 0.9444 - val_loss: 0.2183 - val_accuracy: 0.9259\n",
      "Epoch 17/20\n",
      "4/4 [==============================] - 0s 26ms/step - loss: 0.1792 - accuracy: 0.9352 - val_loss: 0.1825 - val_accuracy: 0.9259\n",
      "Epoch 18/20\n",
      "4/4 [==============================] - 0s 21ms/step - loss: 0.1670 - accuracy: 0.9537 - val_loss: 0.2079 - val_accuracy: 0.9259\n",
      "Epoch 19/20\n",
      "4/4 [==============================] - 0s 21ms/step - loss: 0.1574 - accuracy: 0.9630 - val_loss: 0.1922 - val_accuracy: 0.9259\n",
      "Epoch 20/20\n",
      "4/4 [==============================] - 0s 21ms/step - loss: 0.1479 - accuracy: 0.9722 - val_loss: 0.2124 - val_accuracy: 0.9259\n"
     ]
    },
    {
     "data": {
      "text/plain": "<Figure size 720x432 with 1 Axes>",
      "image/png": "[encoded data removed]"
     },
     "metadata": {
      "needs_background": "light"
     },
     "output_type": "display_data"
    },
    {
     "name": "stdout",
     "output_type": "stream",
     "text": [
      "1/1 [==============================] - 0s 62ms/step - loss: 0.0537 - accuracy: 1.0000\n"
     ]
    },
    {
     "data": {
      "text/plain": "[0.05365125462412834, 1.0]"
     },
     "execution_count": 7,
     "metadata": {},
     "output_type": "execute_result"
    }
   ],
   "source": [
    "# For training a model, we need to pass the entire training dataset into the model\n",
    "# Since the entirety of the dataset is too large, we break it down into smaller portions called \"Batches\"\n",
    "# Multiple batches like this constitute an \"Epoch\"\n",
    "# One epoch means the entire dataset has been passed forward and backward once through the NN model\n",
    "\n",
    "import matplotlib.pyplot as plt\n",
    "\n",
    "# Create the model and store results in model_data\n",
    "trained_model=neural_network_model.fit(X_train, Y_train,\n",
    "                                       batch_size=32,           # We will split the training dataset into 32 batches\n",
    "                                       epochs=20,               # There will be 10 epochs to marl the completion of NN model training\n",
    "                                       verbose=1,               # Enable verbose logging\n",
    "                                       validation_split=0.2)    # Validation split marks the portion of the training data used to validate the results of the NN model after each epoch. Here 20% of the training data is used\n",
    "\n",
    "# Plot accuracy of the model after each epoch.\n",
    "pd.DataFrame(trained_model.history)[\"accuracy\"].plot(figsize=(10, 6))\n",
    "plt.title(\"Accuracy\")\n",
    "plt.show()\n",
    "\n",
    "#Evaluate the model against the test dataset and print results\n",
    "neural_network_model.evaluate(X_test,Y_test)"
   ],
   "metadata": {
    "collapsed": false,
    "pycharm": {
     "name": "#%%\n"
    }
   }
  },
  {
   "cell_type": "markdown",
   "source": [
    "### Save the model for use"
   ],
   "metadata": {
    "collapsed": false,
    "pycharm": {
     "name": "#%% md\n"
    }
   }
  },
  {
   "cell_type": "code",
   "execution_count": 8,
   "outputs": [
    {
     "name": "stdout",
     "output_type": "stream",
     "text": [
      "INFO:tensorflow:Assets written to: iris_prediction\\assets\n",
      "Model: \"sequential\"\n",
      "_________________________________________________________________\n",
      " Layer (type)                Output Shape              Param #   \n",
      "=================================================================\n",
      " first_hidden_layer (Dense)  (None, 128)               640       \n",
      "                                                                 \n",
      " second_hidden_layer (Dense)  (None, 128)              16512     \n",
      "                                                                 \n",
      " output_layer (Dense)        (None, 3)                 387       \n",
      "                                                                 \n",
      "=================================================================\n",
      "Total params: 17,539\n",
      "Trainable params: 17,539\n",
      "Non-trainable params: 0\n",
      "_________________________________________________________________\n"
     ]
    }
   ],
   "source": [
    "# https://stackoverflow.com/a/42121886\n",
    "# To disable the INFO spam in summary logs\n",
    "\n",
    "# Save model\n",
    "neural_network_model.save(\"iris_prediction\")\n",
    "\n",
    "# Load model\n",
    "saved_iris_model = keras.models.load_model(\"iris_prediction\")\n",
    "\n",
    "# Print model summary\n",
    "saved_iris_model.summary()"
   ],
   "metadata": {
    "collapsed": false,
    "pycharm": {
     "name": "#%%\n"
    }
   }
  },
  {
   "cell_type": "markdown",
   "source": [
    "### Test the NN model"
   ],
   "metadata": {
    "collapsed": false,
    "pycharm": {
     "name": "#%% md\n"
    }
   }
  },
  {
   "cell_type": "code",
   "execution_count": 9,
   "outputs": [
    {
     "name": "stdout",
     "output_type": "stream",
     "text": [
      "1/1 [==============================] - 0s 172ms/step\n",
      "Raw prediction probabilities: [[0.02186031 0.724861   0.25327867]]\n",
      "Prediction is  ['versicolor']\n"
     ]
    }
   ],
   "source": [
    "import numpy as np\n",
    "\n",
    "# Prediction data (sepal length, sepal width, petal length, petal width)\n",
    "prediction_input = [[6.6, 3.1 , 4.4, 1.4]]\n",
    "\n",
    "# Scale the prediction with the scaled model created before\n",
    "scaled_input = scaler_model.transform(prediction_input)\n",
    "\n",
    "# Get raw prediction probabilities\n",
    "raw_prediction = neural_network_model.predict(scaled_input)\n",
    "print(\"Raw prediction probabilities:\" , raw_prediction)\n",
    "\n",
    "# Predict result\n",
    "prediction = np.argmax(raw_prediction)\n",
    "print(\"Prediction is \", label_encoder.inverse_transform([prediction]))"
   ],
   "metadata": {
    "collapsed": false,
    "pycharm": {
     "name": "#%%\n"
    }
   }
  }
 ],
 "metadata": {
  "kernelspec": {
   "display_name": "Python 3",
   "language": "python",
   "name": "python3"
  },
  "language_info": {
   "codemirror_mode": {
    "name": "ipython",
    "version": 2
   },
   "file_extension": ".py",
   "mimetype": "text/x-python",
   "name": "python",
   "nbconvert_exporter": "python",
   "pygments_lexer": "ipython2",
   "version": "2.7.6"
  }
 },
 "nbformat": 4,
 "nbformat_minor": 0
}