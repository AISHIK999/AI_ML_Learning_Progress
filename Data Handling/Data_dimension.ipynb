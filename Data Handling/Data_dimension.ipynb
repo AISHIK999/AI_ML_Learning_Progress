{
 "cells": [
  {
   "cell_type": "markdown",
   "source": [
    "# DATA DIMENSION\n",
    "When our dataset becomes more complicated, we need to reduce its dimensionality to simplify the machine learning process\n",
    "This can either be done using data **sampling** or data **dimensionality** reduction\n",
    "Data dimensionality reduction allows the us to reduce the number of features in the dataset prior to modelling\n",
    "**Curse of dimensionality** states that the performance of a model will increase up to a point with increase in dimensionality. But beyond an optimal point, the performance will decrease steadily\n",
    "Thus we need to determine the optimal number of features we can use to make an ideally performing model. This can be done by:\n",
    "- **Feature selection:** This is used to indentify the minimal set o features needed to build an optimally performing model. Also referred to as \"variable selection\", it removes certain irrelevant independent variables that don't have much impact on the final result.\n",
    "- **Feature extraction:** This allows us to use mathematical functions to reduce the dimensionality of a model. Also known as feature projection, the new features thus produced are a projection of the original ones and not their subsets.\n"
   ],
   "metadata": {
    "collapsed": false,
    "pycharm": {
     "name": "#%% md\n"
    }
   }
  }
 ],
 "metadata": {
  "kernelspec": {
   "display_name": "Python 3",
   "language": "python",
   "name": "python3"
  },
  "language_info": {
   "codemirror_mode": {
    "name": "ipython",
    "version": 2
   },
   "file_extension": ".py",
   "mimetype": "text/x-python",
   "name": "python",
   "nbconvert_exporter": "python",
   "pygments_lexer": "ipython2",
   "version": "2.7.6"
  }
 },
 "nbformat": 4,
 "nbformat_minor": 0
}