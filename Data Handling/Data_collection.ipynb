{
 "cells": [
  {
   "cell_type": "markdown",
   "source": [
    "# DATA COLLECTION\n",
    "Data collection allows us to identify and gather the data that is used to train our machine learning model. The data collected should be clear, accurate and without any kind of bias. Any kind of error within the data would be carried on into the subsequent stages of the machine learning model it gets implemented in."
   ],
   "metadata": {
    "collapsed": false,
    "pycharm": {
     "name": "#%% md\n"
    }
   }
  },
  {
   "cell_type": "code",
   "execution_count": 1,
   "outputs": [],
   "source": [
    "# Pandas is a python library which provides the user with tools to analyze and manipulate data.\n",
    "import pandas as pd"
   ],
   "metadata": {
    "collapsed": false,
    "pycharm": {
     "name": "#%%\n"
    }
   }
  },
  {
   "cell_type": "markdown",
   "source": [
    "**Series is used to represent one dimensional ndarray with axis labels**\n",
    "\n",
    "*`pandas.Series(data=None, index=None, dtype=None, name=None, copy=False)`*\n",
    "\n",
    "**data** = the dataset. It can be series, dictionary, scalar value and is iterable\n",
    "\n",
    "**index** = it can be an array or an 1D index that is used to change the default index naming system (0, 1, 2, 3...) to an user input **index** (e.g., 1A, 2B, 3C...)\n",
    "\n",
    "**dtype** = This is the data type represented in the output. This can be provided as a string inout or a numpy datatype (numpy.dtype)\n",
    "\n",
    "**name** = Provides the input name to the series\n",
    "\n",
    "**copy** = Copies input data. It is boolean type and by default False"
   ],
   "metadata": {
    "collapsed": false,
    "pycharm": {
     "name": "#%% md\n"
    }
   }
  },
  {
   "cell_type": "code",
   "execution_count": 2,
   "outputs": [
    {
     "name": "stdout",
     "output_type": "stream",
     "text": [
      "0             Eminem\n",
      "1              JAY-Z\n",
      "2       Mariah Carey\n",
      "3               P!nk\n",
      "4    Backstreet Boys\n",
      "dtype: object\n"
     ]
    }
   ],
   "source": [
    "artists = [\"Eminem\", \"JAY-Z\", \"Mariah Carey\", \"P!nk\", \"Backstreet Boys\"]    # 1D array dataset\n",
    "artist_series = pd.Series(artists)  # Represent the artist dataset using the Series function\n",
    "print(artist_series)\n",
    "# print(type(artist_series))    // <class 'pandas.core.series.Series'>"
   ],
   "metadata": {
    "collapsed": false,
    "pycharm": {
     "name": "#%%\n"
    }
   }
  },
  {
   "cell_type": "markdown",
   "source": [
    "**DataFrame is used to represent two-dimensional dataset in a tabular fashion**\n",
    "\n",
    "*`pandas.DataFrame(data=None, index=None, columns=None, dtype=None, copy=None)`*\n",
    "\n",
    "**data** = This is the dataset. It can be a ndarray, dictionary or DataFrame itself\n",
    "\n",
    "**index** = it can be an array or an 1D index that is used to change the default index naming system (0, 1, 2, 3...) to an user input index (e.g., 1A, 2B, 3C...)\n",
    "\n",
    "**columns**=This represent the column label. By default it is 0, 1, 2, 3... A list/array can be entered to use as custom column label\n",
    "\n",
    "**name** = Provides the input name to the series\n",
    "\n",
    "**copy** = Copies input data. It is boolean type and by default False"
   ],
   "metadata": {
    "collapsed": false,
    "pycharm": {
     "name": "#%% md\n"
    }
   }
  },
  {
   "cell_type": "code",
   "execution_count": 10,
   "outputs": [
    {
     "name": "stdout",
     "output_type": "stream",
     "text": [
      "           ARTIST                    SONG  DURATION EXPLICIT  YEAR  POPULARITY\n",
      "0  Britney Spears  Oops!...I Did It Again    211160    FALSE  2000          77\n",
      "1       blink-182    All The Small Things    167066    FALSE  1999          79\n",
      "2      Faith Hill                 Breathe    250546    FALSE  1999          66\n",
      "3        Bon Jovi            It's My Life    224493    FALSE  2000          78\n",
      "4          *NSYNC             Bye Bye Bye    200560    FALSE  2000          65\n"
     ]
    }
   ],
   "source": [
    "# We will provide the data as a dictionary, where the key elements are the column names of the dataframe\n",
    "# The values are the variables for each instance\n",
    "artists = {\"ARTIST\": [\"Britney Spears\", \"blink-182\", \"Faith Hill\", \"Bon Jovi\", \"*NSYNC\"],\n",
    "           \"SONG\": [\"Oops!...I Did It Again\", \"All The Small Things\", \"Breathe\", \"It's My Life\", \"Bye Bye Bye\"],\n",
    "           \"DURATION\": [211160, 167066, 250546, 224493, 200560],\n",
    "           \"EXPLICIT\":[\"FALSE\", \"FALSE\", \"FALSE\", \"FALSE\", \"FALSE\"],\n",
    "           \"YEAR\": [2000, 1999, 1999, 2000, 2000],\n",
    "           \"POPULARITY\": [77, 79, 66, 78, 65]}\n",
    "artist_dataframe = pd.DataFrame(artists)\n",
    "print(artist_dataframe)\n",
    "# print(type(artist_dataframe))     // <class 'pandas.core.frame.DataFrame'>"
   ],
   "metadata": {
    "collapsed": false,
    "pycharm": {
     "name": "#%%\n"
    }
   }
  },
  {
   "cell_type": "code",
   "execution_count": 11,
   "outputs": [
    {
     "name": "stdout",
     "output_type": "stream",
     "text": [
      "           ARTIST                    SONG  DURATION EXPLICIT  YEAR  POPULARITY\n",
      "0  Britney Spears  Oops!...I Did It Again    211160    FALSE  2000          77\n",
      "1       blink-182    All The Small Things    167066    FALSE  1999          79\n",
      "2      Faith Hill                 Breathe    250546    FALSE  1999          66\n",
      "3        Bon Jovi            It's My Life    224493    FALSE  2000          78\n",
      "4          *NSYNC             Bye Bye Bye    200560    FALSE  2000          65\n"
     ]
    }
   ],
   "source": [
    "# We will now perform the same result as above, but this time, we have used lists instead of dictionaries.\n",
    "# The list elements are the same as present in the previous dictionary as value elements\n",
    "# The key element, which were used as column names in the previous dataframe, are set here using the column parameter\n",
    "labels = [\"ARTIST\", \"SONG\", \"DURATION\", \"EXPLICIT\", \"YEAR\", \"POPULARITY\"]  # Provided the column names\n",
    "artists = [[\"Britney Spears\", \"Oops!...I Did It Again\", 211160, \"FALSE\", 2000, 77],\n",
    "           [\"blink-182\", \"All The Small Things\", 167066, \"FALSE\", 1999, 79],\n",
    "           [\"Faith Hill\", \"Breathe\", 250546, \"FALSE\", 1999, 66],\n",
    "           [\"Bon Jovi\", \"It's My Life\", 224493, \"FALSE\", 2000, 78],\n",
    "           [\"*NSYNC\", \"Bye Bye Bye\", 200560, \"FALSE\", 2000, 65]]  # Provided the variables\n",
    "artist_dataframe_column = pd.DataFrame(artists, columns = labels)\n",
    "print(artist_dataframe_column)"
   ],
   "metadata": {
    "collapsed": false,
    "pycharm": {
     "name": "#%%\n"
    }
   }
  },
  {
   "cell_type": "code",
   "execution_count": 22,
   "outputs": [
    {
     "name": "stdout",
     "output_type": "stream",
     "text": [
      "              artist                                    song  duration_ms  \\\n",
      "0     Britney Spears                  Oops!...I Did It Again       211160   \n",
      "1          blink-182                    All The Small Things       167066   \n",
      "2         Faith Hill                                 Breathe       250546   \n",
      "3           Bon Jovi                            It's My Life       224493   \n",
      "4             *NSYNC                             Bye Bye Bye       200560   \n",
      "...              ...                                     ...          ...   \n",
      "1995  Jonas Brothers                                  Sucker       181026   \n",
      "1996    Taylor Swift                            Cruel Summer       178426   \n",
      "1997    Blanco Brown                              The Git Up       200593   \n",
      "1998       Sam Smith  Dancing With A Stranger (with Normani)       171029   \n",
      "1999     Post Malone                                 Circles       215280   \n",
      "\n",
      "      explicit  year  popularity  danceability  energy  key  loudness  mode  \\\n",
      "0        False  2000          77         0.751   0.834    1    -5.444     0   \n",
      "1        False  1999          79         0.434   0.897    0    -4.918     1   \n",
      "2        False  1999          66         0.529   0.496    7    -9.007     1   \n",
      "3        False  2000          78         0.551   0.913    0    -4.063     0   \n",
      "4        False  2000          65         0.614   0.928    8    -4.806     0   \n",
      "...        ...   ...         ...           ...     ...  ...       ...   ...   \n",
      "1995     False  2019          79         0.842   0.734    1    -5.065     0   \n",
      "1996     False  2019          78         0.552   0.702    9    -5.707     1   \n",
      "1997     False  2019          69         0.847   0.678    9    -8.635     1   \n",
      "1998     False  2019          75         0.741   0.520    8    -7.513     1   \n",
      "1999     False  2019          85         0.695   0.762    0    -3.497     1   \n",
      "\n",
      "      speechiness  acousticness  instrumentalness  liveness  valence    tempo  \\\n",
      "0          0.0437        0.3000          0.000018    0.3550    0.894   95.053   \n",
      "1          0.0488        0.0103          0.000000    0.6120    0.684  148.726   \n",
      "2          0.0290        0.1730          0.000000    0.2510    0.278  136.859   \n",
      "3          0.0466        0.0263          0.000013    0.3470    0.544  119.992   \n",
      "4          0.0516        0.0408          0.001040    0.0845    0.879  172.656   \n",
      "...           ...           ...               ...       ...      ...      ...   \n",
      "1995       0.0588        0.0427          0.000000    0.1060    0.952  137.958   \n",
      "1996       0.1570        0.1170          0.000021    0.1050    0.564  169.994   \n",
      "1997       0.1090        0.0669          0.000000    0.2740    0.811   97.984   \n",
      "1998       0.0656        0.4500          0.000002    0.2220    0.347  102.998   \n",
      "1999       0.0395        0.1920          0.002440    0.0863    0.553  120.042   \n",
      "\n",
      "                 genre  \n",
      "0                  pop  \n",
      "1            rock, pop  \n",
      "2         pop, country  \n",
      "3          rock, metal  \n",
      "4                  pop  \n",
      "...                ...  \n",
      "1995               pop  \n",
      "1996               pop  \n",
      "1997  hip hop, country  \n",
      "1998               pop  \n",
      "1999           hip hop  \n",
      "\n",
      "[2000 rows x 18 columns]\n"
     ]
    }
   ],
   "source": [
    "# We can use read_csv method to read the data from a CSV file\n",
    "artist_csv = pd.read_csv(\"data/songs_normalize.csv\")\n",
    "print(artist_csv)"
   ],
   "metadata": {
    "collapsed": false,
    "pycharm": {
     "name": "#%%\n"
    }
   }
  },
  {
   "cell_type": "code",
   "execution_count": 23,
   "outputs": [
    {
     "name": "stdout",
     "output_type": "stream",
     "text": [
      "              artist                                    song  duration_ms  \\\n",
      "0     Britney Spears                  Oops!...I Did It Again       211160   \n",
      "1          blink-182                    All The Small Things       167066   \n",
      "2         Faith Hill                                 Breathe       250546   \n",
      "3           Bon Jovi                            It's My Life       224493   \n",
      "4             *NSYNC                             Bye Bye Bye       200560   \n",
      "...              ...                                     ...          ...   \n",
      "1995  Jonas Brothers                                  Sucker       181026   \n",
      "1996    Taylor Swift                            Cruel Summer       178426   \n",
      "1997    Blanco Brown                              The Git Up       200593   \n",
      "1998       Sam Smith  Dancing With A Stranger (with Normani)       171029   \n",
      "1999     Post Malone                                 Circles       215280   \n",
      "\n",
      "      explicit  year  popularity  danceability  energy  key  loudness  mode  \\\n",
      "0        False  2000          77         0.751   0.834    1    -5.444     0   \n",
      "1        False  1999          79         0.434   0.897    0    -4.918     1   \n",
      "2        False  1999          66         0.529   0.496    7    -9.007     1   \n",
      "3        False  2000          78         0.551   0.913    0    -4.063     0   \n",
      "4        False  2000          65         0.614   0.928    8    -4.806     0   \n",
      "...        ...   ...         ...           ...     ...  ...       ...   ...   \n",
      "1995     False  2019          79         0.842   0.734    1    -5.065     0   \n",
      "1996     False  2019          78         0.552   0.702    9    -5.707     1   \n",
      "1997     False  2019          69         0.847   0.678    9    -8.635     1   \n",
      "1998     False  2019          75         0.741   0.520    8    -7.513     1   \n",
      "1999     False  2019          85         0.695   0.762    0    -3.497     1   \n",
      "\n",
      "      speechiness  acousticness  instrumentalness  liveness  valence    tempo  \\\n",
      "0          0.0437        0.3000          0.000018    0.3550    0.894   95.053   \n",
      "1          0.0488        0.0103          0.000000    0.6120    0.684  148.726   \n",
      "2          0.0290        0.1730          0.000000    0.2510    0.278  136.859   \n",
      "3          0.0466        0.0263          0.000013    0.3470    0.544  119.992   \n",
      "4          0.0516        0.0408          0.001040    0.0845    0.879  172.656   \n",
      "...           ...           ...               ...       ...      ...      ...   \n",
      "1995       0.0588        0.0427          0.000000    0.1060    0.952  137.958   \n",
      "1996       0.1570        0.1170          0.000021    0.1050    0.564  169.994   \n",
      "1997       0.1090        0.0669          0.000000    0.2740    0.811   97.984   \n",
      "1998       0.0656        0.4500          0.000002    0.2220    0.347  102.998   \n",
      "1999       0.0395        0.1920          0.002440    0.0863    0.553  120.042   \n",
      "\n",
      "                 genre  \n",
      "0                  pop  \n",
      "1            rock, pop  \n",
      "2         pop, country  \n",
      "3          rock, metal  \n",
      "4                  pop  \n",
      "...                ...  \n",
      "1995               pop  \n",
      "1996               pop  \n",
      "1997  hip hop, country  \n",
      "1998               pop  \n",
      "1999           hip hop  \n",
      "\n",
      "[2000 rows x 18 columns]\n"
     ]
    }
   ],
   "source": [
    "# To read data from an Excel spreadsheet, we use the read_excel method\n",
    "member_excel = pd.read_excel(\"data/songs_normalize.xlsx\")\n",
    "print(member_excel)\n",
    "\n",
    "# To read a specific spreadsheet from a workbook, specify the name using the \"sheet_name\" parameter\n",
    "\n",
    "# artist_excel_second = pd.read_excel(\"songs_normalize.xlsx\", sheet_name=\"Second sheet\")\n",
    "# print(artist_excel_second)"
   ],
   "metadata": {
    "collapsed": false,
    "pycharm": {
     "name": "#%%\n"
    }
   }
  }
 ],
 "metadata": {
  "kernelspec": {
   "display_name": "Python 3",
   "language": "python",
   "name": "python3"
  },
  "language_info": {
   "codemirror_mode": {
    "name": "ipython",
    "version": 2
   },
   "file_extension": ".py",
   "mimetype": "text/x-python",
   "name": "python",
   "nbconvert_exporter": "python",
   "pygments_lexer": "ipython2",
   "version": "2.7.6"
  }
 },
 "nbformat": 4,
 "nbformat_minor": 0
}