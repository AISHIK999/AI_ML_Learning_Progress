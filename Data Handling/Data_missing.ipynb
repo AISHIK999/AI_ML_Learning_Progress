{
 "cells": [
  {
   "cell_type": "markdown",
   "source": [
    "# DATA MISSING\n",
    "In some cases in a dataset, we may see that some instances have incomplete or empty feature values.\n",
    "These data errors can generate a faulty result if pushed into the machine learning model.\n",
    "We can either remove or resolve these kinds of errors"
   ],
   "metadata": {
    "collapsed": false,
    "pycharm": {
     "name": "#%% md\n"
    }
   }
  },
  {
   "cell_type": "code",
   "execution_count": 14,
   "outputs": [
    {
     "data": {
      "text/plain": "      ID  FirstName    LastName                Major              Minor   Age  \\\n0   1869       Hana      Barton              Finance                NaN  22.0   \n1   2010     Alicia      Kanuri           Management                NaN  21.0   \n2   2075      Becca     Swanson            Marketing                NaN  22.0   \n3   2228     Halima       Aminu   Business Analytics                NaN  20.0   \n4   2442      Holly    Robinson              Finance                NaN  20.0   \n5   2858      Carla     Harding          Accountancy                NaN   NaN   \n6   3459       Alex     Swanson          Accountancy                NaN   NaN   \n7   3585     Aminah       Zalim            Marketing                NaN  20.0   \n8   5170        Gus  Cunningham              Finance         Innovation  21.0   \n9   5317     Rafael       Solis   Business Analytics               ACMS   NaN   \n10  5336      Homer       White              Finance                NaN   NaN   \n11  5495       Lara       Woods          Accountancy                NaN   NaN   \n12  6453       Otis     Johnson           Management  Political Science  19.0   \n13  6504  Chantelle       Woods  Business Technology                NaN  18.0   \n14  6768   Caroline       Marsh   Business Analytics               ACMS  22.0   \n15  7511      Laila     Carroll            Marketing         Innovation  20.0   \n16  7965      Rocco      Decola              Finance         Innovation  21.0   \n17  9232      Julie      Holmes  Business Technology         Innovation  18.0   \n18  9268     Albert      Palmer           Management        Real Estate  21.0   \n19  9941       Zoya       Doyle   Business Analytics                NaN   NaN   \n\n    Gender             City State      Zip  \n0   Female              NaN   NaN      NaN  \n1   Female  Berrien Springs   NaN      NaN  \n2   Female          Chicago    IL  60608.0  \n3   Female          Atlanta    GA  30303.0  \n4   Female        Charlotte    NC  28202.0  \n5   Female       Youngstown    OH  44502.0  \n6      NaN          Granger    IN      NaN  \n7   Female          Ashburn    VA  20147.0  \n8     Male        Massillon    OH  44646.0  \n9      NaN       South Bend    IN  46601.0  \n10    Male         St. Paul    MN  55101.0  \n11     NaN           Dallas    TX  75201.0  \n12    Male        Anchorage    AK  99501.0  \n13  Female          Chicago   NaN  60608.0  \n14  Female            Niles    MI      NaN  \n15  Female         New York    NY  10001.0  \n16    Male          Oakland    CA  94603.0  \n17  Female          Webster    NY  14580.0  \n18    Male          Detroit    MI  48201.0  \n19  Female          Chicago    IL  60608.0  ",
      "text/html": "<div>\n<style scoped>\n    .dataframe tbody tr th:only-of-type {\n        vertical-align: middle;\n    }\n\n    .dataframe tbody tr th {\n        vertical-align: top;\n    }\n\n    .dataframe thead th {\n        text-align: right;\n    }\n</style>\n<table border=\"1\" class=\"dataframe\">\n  <thead>\n    <tr style=\"text-align: right;\">\n      <th></th>\n      <th>ID</th>\n      <th>FirstName</th>\n      <th>LastName</th>\n      <th>Major</th>\n      <th>Minor</th>\n      <th>Age</th>\n      <th>Gender</th>\n      <th>City</th>\n      <th>State</th>\n      <th>Zip</th>\n    </tr>\n  </thead>\n  <tbody>\n    <tr>\n      <th>0</th>\n      <td>1869</td>\n      <td>Hana</td>\n      <td>Barton</td>\n      <td>Finance</td>\n      <td>NaN</td>\n      <td>22.0</td>\n      <td>Female</td>\n      <td>NaN</td>\n      <td>NaN</td>\n      <td>NaN</td>\n    </tr>\n    <tr>\n      <th>1</th>\n      <td>2010</td>\n      <td>Alicia</td>\n      <td>Kanuri</td>\n      <td>Management</td>\n      <td>NaN</td>\n      <td>21.0</td>\n      <td>Female</td>\n      <td>Berrien Springs</td>\n      <td>NaN</td>\n      <td>NaN</td>\n    </tr>\n    <tr>\n      <th>2</th>\n      <td>2075</td>\n      <td>Becca</td>\n      <td>Swanson</td>\n      <td>Marketing</td>\n      <td>NaN</td>\n      <td>22.0</td>\n      <td>Female</td>\n      <td>Chicago</td>\n      <td>IL</td>\n      <td>60608.0</td>\n    </tr>\n    <tr>\n      <th>3</th>\n      <td>2228</td>\n      <td>Halima</td>\n      <td>Aminu</td>\n      <td>Business Analytics</td>\n      <td>NaN</td>\n      <td>20.0</td>\n      <td>Female</td>\n      <td>Atlanta</td>\n      <td>GA</td>\n      <td>30303.0</td>\n    </tr>\n    <tr>\n      <th>4</th>\n      <td>2442</td>\n      <td>Holly</td>\n      <td>Robinson</td>\n      <td>Finance</td>\n      <td>NaN</td>\n      <td>20.0</td>\n      <td>Female</td>\n      <td>Charlotte</td>\n      <td>NC</td>\n      <td>28202.0</td>\n    </tr>\n    <tr>\n      <th>5</th>\n      <td>2858</td>\n      <td>Carla</td>\n      <td>Harding</td>\n      <td>Accountancy</td>\n      <td>NaN</td>\n      <td>NaN</td>\n      <td>Female</td>\n      <td>Youngstown</td>\n      <td>OH</td>\n      <td>44502.0</td>\n    </tr>\n    <tr>\n      <th>6</th>\n      <td>3459</td>\n      <td>Alex</td>\n      <td>Swanson</td>\n      <td>Accountancy</td>\n      <td>NaN</td>\n      <td>NaN</td>\n      <td>NaN</td>\n      <td>Granger</td>\n      <td>IN</td>\n      <td>NaN</td>\n    </tr>\n    <tr>\n      <th>7</th>\n      <td>3585</td>\n      <td>Aminah</td>\n      <td>Zalim</td>\n      <td>Marketing</td>\n      <td>NaN</td>\n      <td>20.0</td>\n      <td>Female</td>\n      <td>Ashburn</td>\n      <td>VA</td>\n      <td>20147.0</td>\n    </tr>\n    <tr>\n      <th>8</th>\n      <td>5170</td>\n      <td>Gus</td>\n      <td>Cunningham</td>\n      <td>Finance</td>\n      <td>Innovation</td>\n      <td>21.0</td>\n      <td>Male</td>\n      <td>Massillon</td>\n      <td>OH</td>\n      <td>44646.0</td>\n    </tr>\n    <tr>\n      <th>9</th>\n      <td>5317</td>\n      <td>Rafael</td>\n      <td>Solis</td>\n      <td>Business Analytics</td>\n      <td>ACMS</td>\n      <td>NaN</td>\n      <td>NaN</td>\n      <td>South Bend</td>\n      <td>IN</td>\n      <td>46601.0</td>\n    </tr>\n    <tr>\n      <th>10</th>\n      <td>5336</td>\n      <td>Homer</td>\n      <td>White</td>\n      <td>Finance</td>\n      <td>NaN</td>\n      <td>NaN</td>\n      <td>Male</td>\n      <td>St. Paul</td>\n      <td>MN</td>\n      <td>55101.0</td>\n    </tr>\n    <tr>\n      <th>11</th>\n      <td>5495</td>\n      <td>Lara</td>\n      <td>Woods</td>\n      <td>Accountancy</td>\n      <td>NaN</td>\n      <td>NaN</td>\n      <td>NaN</td>\n      <td>Dallas</td>\n      <td>TX</td>\n      <td>75201.0</td>\n    </tr>\n    <tr>\n      <th>12</th>\n      <td>6453</td>\n      <td>Otis</td>\n      <td>Johnson</td>\n      <td>Management</td>\n      <td>Political Science</td>\n      <td>19.0</td>\n      <td>Male</td>\n      <td>Anchorage</td>\n      <td>AK</td>\n      <td>99501.0</td>\n    </tr>\n    <tr>\n      <th>13</th>\n      <td>6504</td>\n      <td>Chantelle</td>\n      <td>Woods</td>\n      <td>Business Technology</td>\n      <td>NaN</td>\n      <td>18.0</td>\n      <td>Female</td>\n      <td>Chicago</td>\n      <td>NaN</td>\n      <td>60608.0</td>\n    </tr>\n    <tr>\n      <th>14</th>\n      <td>6768</td>\n      <td>Caroline</td>\n      <td>Marsh</td>\n      <td>Business Analytics</td>\n      <td>ACMS</td>\n      <td>22.0</td>\n      <td>Female</td>\n      <td>Niles</td>\n      <td>MI</td>\n      <td>NaN</td>\n    </tr>\n    <tr>\n      <th>15</th>\n      <td>7511</td>\n      <td>Laila</td>\n      <td>Carroll</td>\n      <td>Marketing</td>\n      <td>Innovation</td>\n      <td>20.0</td>\n      <td>Female</td>\n      <td>New York</td>\n      <td>NY</td>\n      <td>10001.0</td>\n    </tr>\n    <tr>\n      <th>16</th>\n      <td>7965</td>\n      <td>Rocco</td>\n      <td>Decola</td>\n      <td>Finance</td>\n      <td>Innovation</td>\n      <td>21.0</td>\n      <td>Male</td>\n      <td>Oakland</td>\n      <td>CA</td>\n      <td>94603.0</td>\n    </tr>\n    <tr>\n      <th>17</th>\n      <td>9232</td>\n      <td>Julie</td>\n      <td>Holmes</td>\n      <td>Business Technology</td>\n      <td>Innovation</td>\n      <td>18.0</td>\n      <td>Female</td>\n      <td>Webster</td>\n      <td>NY</td>\n      <td>14580.0</td>\n    </tr>\n    <tr>\n      <th>18</th>\n      <td>9268</td>\n      <td>Albert</td>\n      <td>Palmer</td>\n      <td>Management</td>\n      <td>Real Estate</td>\n      <td>21.0</td>\n      <td>Male</td>\n      <td>Detroit</td>\n      <td>MI</td>\n      <td>48201.0</td>\n    </tr>\n    <tr>\n      <th>19</th>\n      <td>9941</td>\n      <td>Zoya</td>\n      <td>Doyle</td>\n      <td>Business Analytics</td>\n      <td>NaN</td>\n      <td>NaN</td>\n      <td>Female</td>\n      <td>Chicago</td>\n      <td>IL</td>\n      <td>60608.0</td>\n    </tr>\n  </tbody>\n</table>\n</div>"
     },
     "execution_count": 14,
     "metadata": {},
     "output_type": "execute_result"
    }
   ],
   "source": [
    "import pandas as pd\n",
    "school = pd.read_excel(\"data/students.xlsx\")\n",
    "school\n",
    "# As we can see, the \"Minor\" and \"Age\" values for multiple instances are empty"
   ],
   "metadata": {
    "collapsed": false,
    "pycharm": {
     "name": "#%%\n"
    }
   }
  },
  {
   "cell_type": "code",
   "execution_count": 15,
   "outputs": [
    {
     "data": {
      "text/plain": "0      True\n1      True\n2      True\n3      True\n4      True\n5      True\n6      True\n7      True\n8     False\n9     False\n10     True\n11     True\n12    False\n13     True\n14    False\n15    False\n16    False\n17    False\n18    False\n19     True\nName: Minor, dtype: bool"
     },
     "execution_count": 15,
     "metadata": {},
     "output_type": "execute_result"
    }
   ],
   "source": [
    "# We can filter out the instances for a specific column (Minor), which has a null value using the pandas \"isnull\" method\n",
    "null_instance = school[\"Minor\"].isnull()\n",
    "null_instance\n",
    "# We see that the instance number followed by a boolean value\n",
    "# True means empty, False indicates non-null values"
   ],
   "metadata": {
    "collapsed": false,
    "pycharm": {
     "name": "#%%\n"
    }
   }
  },
  {
   "cell_type": "code",
   "execution_count": 16,
   "outputs": [
    {
     "data": {
      "text/plain": "      ID  FirstName  LastName                Major Minor   Age  Gender  \\\n0   1869       Hana    Barton              Finance   NaN  22.0  Female   \n1   2010     Alicia    Kanuri           Management   NaN  21.0  Female   \n2   2075      Becca   Swanson            Marketing   NaN  22.0  Female   \n3   2228     Halima     Aminu   Business Analytics   NaN  20.0  Female   \n4   2442      Holly  Robinson              Finance   NaN  20.0  Female   \n5   2858      Carla   Harding          Accountancy   NaN   NaN  Female   \n6   3459       Alex   Swanson          Accountancy   NaN   NaN     NaN   \n7   3585     Aminah     Zalim            Marketing   NaN  20.0  Female   \n10  5336      Homer     White              Finance   NaN   NaN    Male   \n11  5495       Lara     Woods          Accountancy   NaN   NaN     NaN   \n13  6504  Chantelle     Woods  Business Technology   NaN  18.0  Female   \n19  9941       Zoya     Doyle   Business Analytics   NaN   NaN  Female   \n\n               City State      Zip  \n0               NaN   NaN      NaN  \n1   Berrien Springs   NaN      NaN  \n2           Chicago    IL  60608.0  \n3           Atlanta    GA  30303.0  \n4         Charlotte    NC  28202.0  \n5        Youngstown    OH  44502.0  \n6           Granger    IN      NaN  \n7           Ashburn    VA  20147.0  \n10         St. Paul    MN  55101.0  \n11           Dallas    TX  75201.0  \n13          Chicago   NaN  60608.0  \n19          Chicago    IL  60608.0  ",
      "text/html": "<div>\n<style scoped>\n    .dataframe tbody tr th:only-of-type {\n        vertical-align: middle;\n    }\n\n    .dataframe tbody tr th {\n        vertical-align: top;\n    }\n\n    .dataframe thead th {\n        text-align: right;\n    }\n</style>\n<table border=\"1\" class=\"dataframe\">\n  <thead>\n    <tr style=\"text-align: right;\">\n      <th></th>\n      <th>ID</th>\n      <th>FirstName</th>\n      <th>LastName</th>\n      <th>Major</th>\n      <th>Minor</th>\n      <th>Age</th>\n      <th>Gender</th>\n      <th>City</th>\n      <th>State</th>\n      <th>Zip</th>\n    </tr>\n  </thead>\n  <tbody>\n    <tr>\n      <th>0</th>\n      <td>1869</td>\n      <td>Hana</td>\n      <td>Barton</td>\n      <td>Finance</td>\n      <td>NaN</td>\n      <td>22.0</td>\n      <td>Female</td>\n      <td>NaN</td>\n      <td>NaN</td>\n      <td>NaN</td>\n    </tr>\n    <tr>\n      <th>1</th>\n      <td>2010</td>\n      <td>Alicia</td>\n      <td>Kanuri</td>\n      <td>Management</td>\n      <td>NaN</td>\n      <td>21.0</td>\n      <td>Female</td>\n      <td>Berrien Springs</td>\n      <td>NaN</td>\n      <td>NaN</td>\n    </tr>\n    <tr>\n      <th>2</th>\n      <td>2075</td>\n      <td>Becca</td>\n      <td>Swanson</td>\n      <td>Marketing</td>\n      <td>NaN</td>\n      <td>22.0</td>\n      <td>Female</td>\n      <td>Chicago</td>\n      <td>IL</td>\n      <td>60608.0</td>\n    </tr>\n    <tr>\n      <th>3</th>\n      <td>2228</td>\n      <td>Halima</td>\n      <td>Aminu</td>\n      <td>Business Analytics</td>\n      <td>NaN</td>\n      <td>20.0</td>\n      <td>Female</td>\n      <td>Atlanta</td>\n      <td>GA</td>\n      <td>30303.0</td>\n    </tr>\n    <tr>\n      <th>4</th>\n      <td>2442</td>\n      <td>Holly</td>\n      <td>Robinson</td>\n      <td>Finance</td>\n      <td>NaN</td>\n      <td>20.0</td>\n      <td>Female</td>\n      <td>Charlotte</td>\n      <td>NC</td>\n      <td>28202.0</td>\n    </tr>\n    <tr>\n      <th>5</th>\n      <td>2858</td>\n      <td>Carla</td>\n      <td>Harding</td>\n      <td>Accountancy</td>\n      <td>NaN</td>\n      <td>NaN</td>\n      <td>Female</td>\n      <td>Youngstown</td>\n      <td>OH</td>\n      <td>44502.0</td>\n    </tr>\n    <tr>\n      <th>6</th>\n      <td>3459</td>\n      <td>Alex</td>\n      <td>Swanson</td>\n      <td>Accountancy</td>\n      <td>NaN</td>\n      <td>NaN</td>\n      <td>NaN</td>\n      <td>Granger</td>\n      <td>IN</td>\n      <td>NaN</td>\n    </tr>\n    <tr>\n      <th>7</th>\n      <td>3585</td>\n      <td>Aminah</td>\n      <td>Zalim</td>\n      <td>Marketing</td>\n      <td>NaN</td>\n      <td>20.0</td>\n      <td>Female</td>\n      <td>Ashburn</td>\n      <td>VA</td>\n      <td>20147.0</td>\n    </tr>\n    <tr>\n      <th>10</th>\n      <td>5336</td>\n      <td>Homer</td>\n      <td>White</td>\n      <td>Finance</td>\n      <td>NaN</td>\n      <td>NaN</td>\n      <td>Male</td>\n      <td>St. Paul</td>\n      <td>MN</td>\n      <td>55101.0</td>\n    </tr>\n    <tr>\n      <th>11</th>\n      <td>5495</td>\n      <td>Lara</td>\n      <td>Woods</td>\n      <td>Accountancy</td>\n      <td>NaN</td>\n      <td>NaN</td>\n      <td>NaN</td>\n      <td>Dallas</td>\n      <td>TX</td>\n      <td>75201.0</td>\n    </tr>\n    <tr>\n      <th>13</th>\n      <td>6504</td>\n      <td>Chantelle</td>\n      <td>Woods</td>\n      <td>Business Technology</td>\n      <td>NaN</td>\n      <td>18.0</td>\n      <td>Female</td>\n      <td>Chicago</td>\n      <td>NaN</td>\n      <td>60608.0</td>\n    </tr>\n    <tr>\n      <th>19</th>\n      <td>9941</td>\n      <td>Zoya</td>\n      <td>Doyle</td>\n      <td>Business Analytics</td>\n      <td>NaN</td>\n      <td>NaN</td>\n      <td>Female</td>\n      <td>Chicago</td>\n      <td>IL</td>\n      <td>60608.0</td>\n    </tr>\n  </tbody>\n</table>\n</div>"
     },
     "execution_count": 16,
     "metadata": {},
     "output_type": "execute_result"
    }
   ],
   "source": [
    "# Using the \"null_instance\" filter we created above, we can now make a dataframe out of all the instances having a null value at the \"cabin\" column\n",
    "school[null_instance]"
   ],
   "metadata": {
    "collapsed": false,
    "pycharm": {
     "name": "#%%\n"
    }
   }
  },
  {
   "cell_type": "markdown",
   "source": [
    "**Removing missing values**\n",
    "The missing values we have found can be removed using the pandas **dropna** method"
   ],
   "metadata": {
    "collapsed": false,
    "pycharm": {
     "name": "#%% md\n"
    }
   }
  },
  {
   "cell_type": "code",
   "execution_count": 17,
   "outputs": [
    {
     "data": {
      "text/plain": "      ID FirstName    LastName                Major              Minor   Age  \\\n8   5170       Gus  Cunningham              Finance         Innovation  21.0   \n12  6453      Otis     Johnson           Management  Political Science  19.0   \n15  7511     Laila     Carroll            Marketing         Innovation  20.0   \n16  7965     Rocco      Decola              Finance         Innovation  21.0   \n17  9232     Julie      Holmes  Business Technology         Innovation  18.0   \n18  9268    Albert      Palmer           Management        Real Estate  21.0   \n\n    Gender       City State      Zip  \n8     Male  Massillon    OH  44646.0  \n12    Male  Anchorage    AK  99501.0  \n15  Female   New York    NY  10001.0  \n16    Male    Oakland    CA  94603.0  \n17  Female    Webster    NY  14580.0  \n18    Male    Detroit    MI  48201.0  ",
      "text/html": "<div>\n<style scoped>\n    .dataframe tbody tr th:only-of-type {\n        vertical-align: middle;\n    }\n\n    .dataframe tbody tr th {\n        vertical-align: top;\n    }\n\n    .dataframe thead th {\n        text-align: right;\n    }\n</style>\n<table border=\"1\" class=\"dataframe\">\n  <thead>\n    <tr style=\"text-align: right;\">\n      <th></th>\n      <th>ID</th>\n      <th>FirstName</th>\n      <th>LastName</th>\n      <th>Major</th>\n      <th>Minor</th>\n      <th>Age</th>\n      <th>Gender</th>\n      <th>City</th>\n      <th>State</th>\n      <th>Zip</th>\n    </tr>\n  </thead>\n  <tbody>\n    <tr>\n      <th>8</th>\n      <td>5170</td>\n      <td>Gus</td>\n      <td>Cunningham</td>\n      <td>Finance</td>\n      <td>Innovation</td>\n      <td>21.0</td>\n      <td>Male</td>\n      <td>Massillon</td>\n      <td>OH</td>\n      <td>44646.0</td>\n    </tr>\n    <tr>\n      <th>12</th>\n      <td>6453</td>\n      <td>Otis</td>\n      <td>Johnson</td>\n      <td>Management</td>\n      <td>Political Science</td>\n      <td>19.0</td>\n      <td>Male</td>\n      <td>Anchorage</td>\n      <td>AK</td>\n      <td>99501.0</td>\n    </tr>\n    <tr>\n      <th>15</th>\n      <td>7511</td>\n      <td>Laila</td>\n      <td>Carroll</td>\n      <td>Marketing</td>\n      <td>Innovation</td>\n      <td>20.0</td>\n      <td>Female</td>\n      <td>New York</td>\n      <td>NY</td>\n      <td>10001.0</td>\n    </tr>\n    <tr>\n      <th>16</th>\n      <td>7965</td>\n      <td>Rocco</td>\n      <td>Decola</td>\n      <td>Finance</td>\n      <td>Innovation</td>\n      <td>21.0</td>\n      <td>Male</td>\n      <td>Oakland</td>\n      <td>CA</td>\n      <td>94603.0</td>\n    </tr>\n    <tr>\n      <th>17</th>\n      <td>9232</td>\n      <td>Julie</td>\n      <td>Holmes</td>\n      <td>Business Technology</td>\n      <td>Innovation</td>\n      <td>18.0</td>\n      <td>Female</td>\n      <td>Webster</td>\n      <td>NY</td>\n      <td>14580.0</td>\n    </tr>\n    <tr>\n      <th>18</th>\n      <td>9268</td>\n      <td>Albert</td>\n      <td>Palmer</td>\n      <td>Management</td>\n      <td>Real Estate</td>\n      <td>21.0</td>\n      <td>Male</td>\n      <td>Detroit</td>\n      <td>MI</td>\n      <td>48201.0</td>\n    </tr>\n  </tbody>\n</table>\n</div>"
     },
     "execution_count": 17,
     "metadata": {},
     "output_type": "execute_result"
    }
   ],
   "source": [
    "school.dropna()\n",
    "# From the result, we can see that all instances containing missing values have been removed"
   ],
   "metadata": {
    "collapsed": false,
    "pycharm": {
     "name": "#%%\n"
    }
   }
  },
  {
   "cell_type": "markdown",
   "source": [
    "In the above method we see that every instance with a missing value gets cleared\n",
    "We can set the **subset** and **how** parameter in dropna method to get desired result\n",
    "We need to provide the column names we want to filter out in the subset. We can provide multiple column names in a list\n",
    "The how parameter takes 2 inputs:\n",
    "    - **all**: The instance wil only be dropped if all the values are missing\n",
    "    - **any**: The instance wil only be dropped if any of the values are missing"
   ],
   "metadata": {
    "collapsed": false,
    "pycharm": {
     "name": "#%% md\n"
    }
   }
  },
  {
   "cell_type": "code",
   "execution_count": 18,
   "outputs": [
    {
     "data": {
      "text/plain": "      ID  FirstName    LastName                Major              Minor   Age  \\\n0   1869       Hana      Barton              Finance                NaN  22.0   \n1   2010     Alicia      Kanuri           Management                NaN  21.0   \n2   2075      Becca     Swanson            Marketing                NaN  22.0   \n3   2228     Halima       Aminu   Business Analytics                NaN  20.0   \n4   2442      Holly    Robinson              Finance                NaN  20.0   \n5   2858      Carla     Harding          Accountancy                NaN   NaN   \n6   3459       Alex     Swanson          Accountancy                NaN   NaN   \n7   3585     Aminah       Zalim            Marketing                NaN  20.0   \n8   5170        Gus  Cunningham              Finance         Innovation  21.0   \n9   5317     Rafael       Solis   Business Analytics               ACMS   NaN   \n10  5336      Homer       White              Finance                NaN   NaN   \n11  5495       Lara       Woods          Accountancy                NaN   NaN   \n12  6453       Otis     Johnson           Management  Political Science  19.0   \n13  6504  Chantelle       Woods  Business Technology                NaN  18.0   \n14  6768   Caroline       Marsh   Business Analytics               ACMS  22.0   \n15  7511      Laila     Carroll            Marketing         Innovation  20.0   \n16  7965      Rocco      Decola              Finance         Innovation  21.0   \n17  9232      Julie      Holmes  Business Technology         Innovation  18.0   \n18  9268     Albert      Palmer           Management        Real Estate  21.0   \n19  9941       Zoya       Doyle   Business Analytics                NaN   NaN   \n\n    Gender             City State      Zip  \n0   Female              NaN   NaN      NaN  \n1   Female  Berrien Springs   NaN      NaN  \n2   Female          Chicago    IL  60608.0  \n3   Female          Atlanta    GA  30303.0  \n4   Female        Charlotte    NC  28202.0  \n5   Female       Youngstown    OH  44502.0  \n6      NaN          Granger    IN      NaN  \n7   Female          Ashburn    VA  20147.0  \n8     Male        Massillon    OH  44646.0  \n9      NaN       South Bend    IN  46601.0  \n10    Male         St. Paul    MN  55101.0  \n11     NaN           Dallas    TX  75201.0  \n12    Male        Anchorage    AK  99501.0  \n13  Female          Chicago   NaN  60608.0  \n14  Female            Niles    MI      NaN  \n15  Female         New York    NY  10001.0  \n16    Male          Oakland    CA  94603.0  \n17  Female          Webster    NY  14580.0  \n18    Male          Detroit    MI  48201.0  \n19  Female          Chicago    IL  60608.0  ",
      "text/html": "<div>\n<style scoped>\n    .dataframe tbody tr th:only-of-type {\n        vertical-align: middle;\n    }\n\n    .dataframe tbody tr th {\n        vertical-align: top;\n    }\n\n    .dataframe thead th {\n        text-align: right;\n    }\n</style>\n<table border=\"1\" class=\"dataframe\">\n  <thead>\n    <tr style=\"text-align: right;\">\n      <th></th>\n      <th>ID</th>\n      <th>FirstName</th>\n      <th>LastName</th>\n      <th>Major</th>\n      <th>Minor</th>\n      <th>Age</th>\n      <th>Gender</th>\n      <th>City</th>\n      <th>State</th>\n      <th>Zip</th>\n    </tr>\n  </thead>\n  <tbody>\n    <tr>\n      <th>0</th>\n      <td>1869</td>\n      <td>Hana</td>\n      <td>Barton</td>\n      <td>Finance</td>\n      <td>NaN</td>\n      <td>22.0</td>\n      <td>Female</td>\n      <td>NaN</td>\n      <td>NaN</td>\n      <td>NaN</td>\n    </tr>\n    <tr>\n      <th>1</th>\n      <td>2010</td>\n      <td>Alicia</td>\n      <td>Kanuri</td>\n      <td>Management</td>\n      <td>NaN</td>\n      <td>21.0</td>\n      <td>Female</td>\n      <td>Berrien Springs</td>\n      <td>NaN</td>\n      <td>NaN</td>\n    </tr>\n    <tr>\n      <th>2</th>\n      <td>2075</td>\n      <td>Becca</td>\n      <td>Swanson</td>\n      <td>Marketing</td>\n      <td>NaN</td>\n      <td>22.0</td>\n      <td>Female</td>\n      <td>Chicago</td>\n      <td>IL</td>\n      <td>60608.0</td>\n    </tr>\n    <tr>\n      <th>3</th>\n      <td>2228</td>\n      <td>Halima</td>\n      <td>Aminu</td>\n      <td>Business Analytics</td>\n      <td>NaN</td>\n      <td>20.0</td>\n      <td>Female</td>\n      <td>Atlanta</td>\n      <td>GA</td>\n      <td>30303.0</td>\n    </tr>\n    <tr>\n      <th>4</th>\n      <td>2442</td>\n      <td>Holly</td>\n      <td>Robinson</td>\n      <td>Finance</td>\n      <td>NaN</td>\n      <td>20.0</td>\n      <td>Female</td>\n      <td>Charlotte</td>\n      <td>NC</td>\n      <td>28202.0</td>\n    </tr>\n    <tr>\n      <th>5</th>\n      <td>2858</td>\n      <td>Carla</td>\n      <td>Harding</td>\n      <td>Accountancy</td>\n      <td>NaN</td>\n      <td>NaN</td>\n      <td>Female</td>\n      <td>Youngstown</td>\n      <td>OH</td>\n      <td>44502.0</td>\n    </tr>\n    <tr>\n      <th>6</th>\n      <td>3459</td>\n      <td>Alex</td>\n      <td>Swanson</td>\n      <td>Accountancy</td>\n      <td>NaN</td>\n      <td>NaN</td>\n      <td>NaN</td>\n      <td>Granger</td>\n      <td>IN</td>\n      <td>NaN</td>\n    </tr>\n    <tr>\n      <th>7</th>\n      <td>3585</td>\n      <td>Aminah</td>\n      <td>Zalim</td>\n      <td>Marketing</td>\n      <td>NaN</td>\n      <td>20.0</td>\n      <td>Female</td>\n      <td>Ashburn</td>\n      <td>VA</td>\n      <td>20147.0</td>\n    </tr>\n    <tr>\n      <th>8</th>\n      <td>5170</td>\n      <td>Gus</td>\n      <td>Cunningham</td>\n      <td>Finance</td>\n      <td>Innovation</td>\n      <td>21.0</td>\n      <td>Male</td>\n      <td>Massillon</td>\n      <td>OH</td>\n      <td>44646.0</td>\n    </tr>\n    <tr>\n      <th>9</th>\n      <td>5317</td>\n      <td>Rafael</td>\n      <td>Solis</td>\n      <td>Business Analytics</td>\n      <td>ACMS</td>\n      <td>NaN</td>\n      <td>NaN</td>\n      <td>South Bend</td>\n      <td>IN</td>\n      <td>46601.0</td>\n    </tr>\n    <tr>\n      <th>10</th>\n      <td>5336</td>\n      <td>Homer</td>\n      <td>White</td>\n      <td>Finance</td>\n      <td>NaN</td>\n      <td>NaN</td>\n      <td>Male</td>\n      <td>St. Paul</td>\n      <td>MN</td>\n      <td>55101.0</td>\n    </tr>\n    <tr>\n      <th>11</th>\n      <td>5495</td>\n      <td>Lara</td>\n      <td>Woods</td>\n      <td>Accountancy</td>\n      <td>NaN</td>\n      <td>NaN</td>\n      <td>NaN</td>\n      <td>Dallas</td>\n      <td>TX</td>\n      <td>75201.0</td>\n    </tr>\n    <tr>\n      <th>12</th>\n      <td>6453</td>\n      <td>Otis</td>\n      <td>Johnson</td>\n      <td>Management</td>\n      <td>Political Science</td>\n      <td>19.0</td>\n      <td>Male</td>\n      <td>Anchorage</td>\n      <td>AK</td>\n      <td>99501.0</td>\n    </tr>\n    <tr>\n      <th>13</th>\n      <td>6504</td>\n      <td>Chantelle</td>\n      <td>Woods</td>\n      <td>Business Technology</td>\n      <td>NaN</td>\n      <td>18.0</td>\n      <td>Female</td>\n      <td>Chicago</td>\n      <td>NaN</td>\n      <td>60608.0</td>\n    </tr>\n    <tr>\n      <th>14</th>\n      <td>6768</td>\n      <td>Caroline</td>\n      <td>Marsh</td>\n      <td>Business Analytics</td>\n      <td>ACMS</td>\n      <td>22.0</td>\n      <td>Female</td>\n      <td>Niles</td>\n      <td>MI</td>\n      <td>NaN</td>\n    </tr>\n    <tr>\n      <th>15</th>\n      <td>7511</td>\n      <td>Laila</td>\n      <td>Carroll</td>\n      <td>Marketing</td>\n      <td>Innovation</td>\n      <td>20.0</td>\n      <td>Female</td>\n      <td>New York</td>\n      <td>NY</td>\n      <td>10001.0</td>\n    </tr>\n    <tr>\n      <th>16</th>\n      <td>7965</td>\n      <td>Rocco</td>\n      <td>Decola</td>\n      <td>Finance</td>\n      <td>Innovation</td>\n      <td>21.0</td>\n      <td>Male</td>\n      <td>Oakland</td>\n      <td>CA</td>\n      <td>94603.0</td>\n    </tr>\n    <tr>\n      <th>17</th>\n      <td>9232</td>\n      <td>Julie</td>\n      <td>Holmes</td>\n      <td>Business Technology</td>\n      <td>Innovation</td>\n      <td>18.0</td>\n      <td>Female</td>\n      <td>Webster</td>\n      <td>NY</td>\n      <td>14580.0</td>\n    </tr>\n    <tr>\n      <th>18</th>\n      <td>9268</td>\n      <td>Albert</td>\n      <td>Palmer</td>\n      <td>Management</td>\n      <td>Real Estate</td>\n      <td>21.0</td>\n      <td>Male</td>\n      <td>Detroit</td>\n      <td>MI</td>\n      <td>48201.0</td>\n    </tr>\n    <tr>\n      <th>19</th>\n      <td>9941</td>\n      <td>Zoya</td>\n      <td>Doyle</td>\n      <td>Business Analytics</td>\n      <td>NaN</td>\n      <td>NaN</td>\n      <td>Female</td>\n      <td>Chicago</td>\n      <td>IL</td>\n      <td>60608.0</td>\n    </tr>\n  </tbody>\n</table>\n</div>"
     },
     "execution_count": 18,
     "metadata": {},
     "output_type": "execute_result"
    }
   ],
   "source": [
    "clean_school = school.dropna(subset=[\"Age\", \"State\"], how=\"all\")\n",
    "clean_school\n",
    "# We see that all instances having a null value in the \"Age\" and \"State\" features got dropped"
   ],
   "metadata": {
    "collapsed": false,
    "pycharm": {
     "name": "#%%\n"
    }
   }
  },
  {
   "cell_type": "code",
   "execution_count": 19,
   "outputs": [
    {
     "data": {
      "text/plain": "      ID  FirstName    LastName                Major\n0   1869       Hana      Barton              Finance\n1   2010     Alicia      Kanuri           Management\n2   2075      Becca     Swanson            Marketing\n3   2228     Halima       Aminu   Business Analytics\n4   2442      Holly    Robinson              Finance\n5   2858      Carla     Harding          Accountancy\n6   3459       Alex     Swanson          Accountancy\n7   3585     Aminah       Zalim            Marketing\n8   5170        Gus  Cunningham              Finance\n9   5317     Rafael       Solis   Business Analytics\n10  5336      Homer       White              Finance\n11  5495       Lara       Woods          Accountancy\n12  6453       Otis     Johnson           Management\n13  6504  Chantelle       Woods  Business Technology\n14  6768   Caroline       Marsh   Business Analytics\n15  7511      Laila     Carroll            Marketing\n16  7965      Rocco      Decola              Finance\n17  9232      Julie      Holmes  Business Technology\n18  9268     Albert      Palmer           Management\n19  9941       Zoya       Doyle   Business Analytics",
      "text/html": "<div>\n<style scoped>\n    .dataframe tbody tr th:only-of-type {\n        vertical-align: middle;\n    }\n\n    .dataframe tbody tr th {\n        vertical-align: top;\n    }\n\n    .dataframe thead th {\n        text-align: right;\n    }\n</style>\n<table border=\"1\" class=\"dataframe\">\n  <thead>\n    <tr style=\"text-align: right;\">\n      <th></th>\n      <th>ID</th>\n      <th>FirstName</th>\n      <th>LastName</th>\n      <th>Major</th>\n    </tr>\n  </thead>\n  <tbody>\n    <tr>\n      <th>0</th>\n      <td>1869</td>\n      <td>Hana</td>\n      <td>Barton</td>\n      <td>Finance</td>\n    </tr>\n    <tr>\n      <th>1</th>\n      <td>2010</td>\n      <td>Alicia</td>\n      <td>Kanuri</td>\n      <td>Management</td>\n    </tr>\n    <tr>\n      <th>2</th>\n      <td>2075</td>\n      <td>Becca</td>\n      <td>Swanson</td>\n      <td>Marketing</td>\n    </tr>\n    <tr>\n      <th>3</th>\n      <td>2228</td>\n      <td>Halima</td>\n      <td>Aminu</td>\n      <td>Business Analytics</td>\n    </tr>\n    <tr>\n      <th>4</th>\n      <td>2442</td>\n      <td>Holly</td>\n      <td>Robinson</td>\n      <td>Finance</td>\n    </tr>\n    <tr>\n      <th>5</th>\n      <td>2858</td>\n      <td>Carla</td>\n      <td>Harding</td>\n      <td>Accountancy</td>\n    </tr>\n    <tr>\n      <th>6</th>\n      <td>3459</td>\n      <td>Alex</td>\n      <td>Swanson</td>\n      <td>Accountancy</td>\n    </tr>\n    <tr>\n      <th>7</th>\n      <td>3585</td>\n      <td>Aminah</td>\n      <td>Zalim</td>\n      <td>Marketing</td>\n    </tr>\n    <tr>\n      <th>8</th>\n      <td>5170</td>\n      <td>Gus</td>\n      <td>Cunningham</td>\n      <td>Finance</td>\n    </tr>\n    <tr>\n      <th>9</th>\n      <td>5317</td>\n      <td>Rafael</td>\n      <td>Solis</td>\n      <td>Business Analytics</td>\n    </tr>\n    <tr>\n      <th>10</th>\n      <td>5336</td>\n      <td>Homer</td>\n      <td>White</td>\n      <td>Finance</td>\n    </tr>\n    <tr>\n      <th>11</th>\n      <td>5495</td>\n      <td>Lara</td>\n      <td>Woods</td>\n      <td>Accountancy</td>\n    </tr>\n    <tr>\n      <th>12</th>\n      <td>6453</td>\n      <td>Otis</td>\n      <td>Johnson</td>\n      <td>Management</td>\n    </tr>\n    <tr>\n      <th>13</th>\n      <td>6504</td>\n      <td>Chantelle</td>\n      <td>Woods</td>\n      <td>Business Technology</td>\n    </tr>\n    <tr>\n      <th>14</th>\n      <td>6768</td>\n      <td>Caroline</td>\n      <td>Marsh</td>\n      <td>Business Analytics</td>\n    </tr>\n    <tr>\n      <th>15</th>\n      <td>7511</td>\n      <td>Laila</td>\n      <td>Carroll</td>\n      <td>Marketing</td>\n    </tr>\n    <tr>\n      <th>16</th>\n      <td>7965</td>\n      <td>Rocco</td>\n      <td>Decola</td>\n      <td>Finance</td>\n    </tr>\n    <tr>\n      <th>17</th>\n      <td>9232</td>\n      <td>Julie</td>\n      <td>Holmes</td>\n      <td>Business Technology</td>\n    </tr>\n    <tr>\n      <th>18</th>\n      <td>9268</td>\n      <td>Albert</td>\n      <td>Palmer</td>\n      <td>Management</td>\n    </tr>\n    <tr>\n      <th>19</th>\n      <td>9941</td>\n      <td>Zoya</td>\n      <td>Doyle</td>\n      <td>Business Analytics</td>\n    </tr>\n  </tbody>\n</table>\n</div>"
     },
     "execution_count": 19,
     "metadata": {},
     "output_type": "execute_result"
    }
   ],
   "source": [
    "# We can also remove the feature column with missing data instead of instances\n",
    "# For this, we can set the \"axis\" parameter of the \"dropna\" method to 1\n",
    "school.dropna(axis=1)\n",
    "# We can see that all columns that had a missing value has been removed"
   ],
   "metadata": {
    "collapsed": false,
    "pycharm": {
     "name": "#%%\n"
    }
   }
  },
  {
   "cell_type": "code",
   "execution_count": 21,
   "outputs": [
    {
     "data": {
      "text/plain": "      ID  FirstName    LastName                Major   Age  Gender  \\\n0   1869       Hana      Barton              Finance  22.0  Female   \n1   2010     Alicia      Kanuri           Management  21.0  Female   \n2   2075      Becca     Swanson            Marketing  22.0  Female   \n3   2228     Halima       Aminu   Business Analytics  20.0  Female   \n4   2442      Holly    Robinson              Finance  20.0  Female   \n5   2858      Carla     Harding          Accountancy   NaN  Female   \n6   3459       Alex     Swanson          Accountancy   NaN     NaN   \n7   3585     Aminah       Zalim            Marketing  20.0  Female   \n8   5170        Gus  Cunningham              Finance  21.0    Male   \n9   5317     Rafael       Solis   Business Analytics   NaN     NaN   \n10  5336      Homer       White              Finance   NaN    Male   \n11  5495       Lara       Woods          Accountancy   NaN     NaN   \n12  6453       Otis     Johnson           Management  19.0    Male   \n13  6504  Chantelle       Woods  Business Technology  18.0  Female   \n14  6768   Caroline       Marsh   Business Analytics  22.0  Female   \n15  7511      Laila     Carroll            Marketing  20.0  Female   \n16  7965      Rocco      Decola              Finance  21.0    Male   \n17  9232      Julie      Holmes  Business Technology  18.0  Female   \n18  9268     Albert      Palmer           Management  21.0    Male   \n19  9941       Zoya       Doyle   Business Analytics   NaN  Female   \n\n               City State      Zip  \n0               NaN   NaN      NaN  \n1   Berrien Springs   NaN      NaN  \n2           Chicago    IL  60608.0  \n3           Atlanta    GA  30303.0  \n4         Charlotte    NC  28202.0  \n5        Youngstown    OH  44502.0  \n6           Granger    IN      NaN  \n7           Ashburn    VA  20147.0  \n8         Massillon    OH  44646.0  \n9        South Bend    IN  46601.0  \n10         St. Paul    MN  55101.0  \n11           Dallas    TX  75201.0  \n12        Anchorage    AK  99501.0  \n13          Chicago   NaN  60608.0  \n14            Niles    MI      NaN  \n15         New York    NY  10001.0  \n16          Oakland    CA  94603.0  \n17          Webster    NY  14580.0  \n18          Detroit    MI  48201.0  \n19          Chicago    IL  60608.0  ",
      "text/html": "<div>\n<style scoped>\n    .dataframe tbody tr th:only-of-type {\n        vertical-align: middle;\n    }\n\n    .dataframe tbody tr th {\n        vertical-align: top;\n    }\n\n    .dataframe thead th {\n        text-align: right;\n    }\n</style>\n<table border=\"1\" class=\"dataframe\">\n  <thead>\n    <tr style=\"text-align: right;\">\n      <th></th>\n      <th>ID</th>\n      <th>FirstName</th>\n      <th>LastName</th>\n      <th>Major</th>\n      <th>Age</th>\n      <th>Gender</th>\n      <th>City</th>\n      <th>State</th>\n      <th>Zip</th>\n    </tr>\n  </thead>\n  <tbody>\n    <tr>\n      <th>0</th>\n      <td>1869</td>\n      <td>Hana</td>\n      <td>Barton</td>\n      <td>Finance</td>\n      <td>22.0</td>\n      <td>Female</td>\n      <td>NaN</td>\n      <td>NaN</td>\n      <td>NaN</td>\n    </tr>\n    <tr>\n      <th>1</th>\n      <td>2010</td>\n      <td>Alicia</td>\n      <td>Kanuri</td>\n      <td>Management</td>\n      <td>21.0</td>\n      <td>Female</td>\n      <td>Berrien Springs</td>\n      <td>NaN</td>\n      <td>NaN</td>\n    </tr>\n    <tr>\n      <th>2</th>\n      <td>2075</td>\n      <td>Becca</td>\n      <td>Swanson</td>\n      <td>Marketing</td>\n      <td>22.0</td>\n      <td>Female</td>\n      <td>Chicago</td>\n      <td>IL</td>\n      <td>60608.0</td>\n    </tr>\n    <tr>\n      <th>3</th>\n      <td>2228</td>\n      <td>Halima</td>\n      <td>Aminu</td>\n      <td>Business Analytics</td>\n      <td>20.0</td>\n      <td>Female</td>\n      <td>Atlanta</td>\n      <td>GA</td>\n      <td>30303.0</td>\n    </tr>\n    <tr>\n      <th>4</th>\n      <td>2442</td>\n      <td>Holly</td>\n      <td>Robinson</td>\n      <td>Finance</td>\n      <td>20.0</td>\n      <td>Female</td>\n      <td>Charlotte</td>\n      <td>NC</td>\n      <td>28202.0</td>\n    </tr>\n    <tr>\n      <th>5</th>\n      <td>2858</td>\n      <td>Carla</td>\n      <td>Harding</td>\n      <td>Accountancy</td>\n      <td>NaN</td>\n      <td>Female</td>\n      <td>Youngstown</td>\n      <td>OH</td>\n      <td>44502.0</td>\n    </tr>\n    <tr>\n      <th>6</th>\n      <td>3459</td>\n      <td>Alex</td>\n      <td>Swanson</td>\n      <td>Accountancy</td>\n      <td>NaN</td>\n      <td>NaN</td>\n      <td>Granger</td>\n      <td>IN</td>\n      <td>NaN</td>\n    </tr>\n    <tr>\n      <th>7</th>\n      <td>3585</td>\n      <td>Aminah</td>\n      <td>Zalim</td>\n      <td>Marketing</td>\n      <td>20.0</td>\n      <td>Female</td>\n      <td>Ashburn</td>\n      <td>VA</td>\n      <td>20147.0</td>\n    </tr>\n    <tr>\n      <th>8</th>\n      <td>5170</td>\n      <td>Gus</td>\n      <td>Cunningham</td>\n      <td>Finance</td>\n      <td>21.0</td>\n      <td>Male</td>\n      <td>Massillon</td>\n      <td>OH</td>\n      <td>44646.0</td>\n    </tr>\n    <tr>\n      <th>9</th>\n      <td>5317</td>\n      <td>Rafael</td>\n      <td>Solis</td>\n      <td>Business Analytics</td>\n      <td>NaN</td>\n      <td>NaN</td>\n      <td>South Bend</td>\n      <td>IN</td>\n      <td>46601.0</td>\n    </tr>\n    <tr>\n      <th>10</th>\n      <td>5336</td>\n      <td>Homer</td>\n      <td>White</td>\n      <td>Finance</td>\n      <td>NaN</td>\n      <td>Male</td>\n      <td>St. Paul</td>\n      <td>MN</td>\n      <td>55101.0</td>\n    </tr>\n    <tr>\n      <th>11</th>\n      <td>5495</td>\n      <td>Lara</td>\n      <td>Woods</td>\n      <td>Accountancy</td>\n      <td>NaN</td>\n      <td>NaN</td>\n      <td>Dallas</td>\n      <td>TX</td>\n      <td>75201.0</td>\n    </tr>\n    <tr>\n      <th>12</th>\n      <td>6453</td>\n      <td>Otis</td>\n      <td>Johnson</td>\n      <td>Management</td>\n      <td>19.0</td>\n      <td>Male</td>\n      <td>Anchorage</td>\n      <td>AK</td>\n      <td>99501.0</td>\n    </tr>\n    <tr>\n      <th>13</th>\n      <td>6504</td>\n      <td>Chantelle</td>\n      <td>Woods</td>\n      <td>Business Technology</td>\n      <td>18.0</td>\n      <td>Female</td>\n      <td>Chicago</td>\n      <td>NaN</td>\n      <td>60608.0</td>\n    </tr>\n    <tr>\n      <th>14</th>\n      <td>6768</td>\n      <td>Caroline</td>\n      <td>Marsh</td>\n      <td>Business Analytics</td>\n      <td>22.0</td>\n      <td>Female</td>\n      <td>Niles</td>\n      <td>MI</td>\n      <td>NaN</td>\n    </tr>\n    <tr>\n      <th>15</th>\n      <td>7511</td>\n      <td>Laila</td>\n      <td>Carroll</td>\n      <td>Marketing</td>\n      <td>20.0</td>\n      <td>Female</td>\n      <td>New York</td>\n      <td>NY</td>\n      <td>10001.0</td>\n    </tr>\n    <tr>\n      <th>16</th>\n      <td>7965</td>\n      <td>Rocco</td>\n      <td>Decola</td>\n      <td>Finance</td>\n      <td>21.0</td>\n      <td>Male</td>\n      <td>Oakland</td>\n      <td>CA</td>\n      <td>94603.0</td>\n    </tr>\n    <tr>\n      <th>17</th>\n      <td>9232</td>\n      <td>Julie</td>\n      <td>Holmes</td>\n      <td>Business Technology</td>\n      <td>18.0</td>\n      <td>Female</td>\n      <td>Webster</td>\n      <td>NY</td>\n      <td>14580.0</td>\n    </tr>\n    <tr>\n      <th>18</th>\n      <td>9268</td>\n      <td>Albert</td>\n      <td>Palmer</td>\n      <td>Management</td>\n      <td>21.0</td>\n      <td>Male</td>\n      <td>Detroit</td>\n      <td>MI</td>\n      <td>48201.0</td>\n    </tr>\n    <tr>\n      <th>19</th>\n      <td>9941</td>\n      <td>Zoya</td>\n      <td>Doyle</td>\n      <td>Business Analytics</td>\n      <td>NaN</td>\n      <td>Female</td>\n      <td>Chicago</td>\n      <td>IL</td>\n      <td>60608.0</td>\n    </tr>\n  </tbody>\n</table>\n</div>"
     },
     "execution_count": 21,
     "metadata": {},
     "output_type": "execute_result"
    }
   ],
   "source": [
    "# Instead of removing all features, we can remove the features containing only a fixed amount of NULL values\n",
    "# We can provide the threshold value to a certain limit. If we want to remove a feature set with more than 50% of values missing, we have to pass the \"50% of total number of instances\" value to the \"thresg\" parameter\n",
    "clean_school = school.dropna(axis=1, thresh=10)\n",
    "clean_school\n",
    "# As we can see, the \"Minor\" feature has been dropped as it has missing values for more than 50% of the instances"
   ],
   "metadata": {
    "collapsed": false,
    "pycharm": {
     "name": "#%%\n"
    }
   }
  },
  {
   "cell_type": "markdown",
   "source": [
    "**Replacing missing values**\n",
    "We can replace missing values instead of dropping them using the **fillna** method"
   ],
   "metadata": {
    "collapsed": false,
    "pycharm": {
     "name": "#%% md\n"
    }
   }
  },
  {
   "cell_type": "code",
   "execution_count": 24,
   "outputs": [
    {
     "data": {
      "text/plain": "      ID  FirstName    LastName                Major              Minor   Age  \\\n0   1869       Hana      Barton              Finance                NaN  22.0   \n1   2010     Alicia      Kanuri           Management                NaN  21.0   \n2   2075      Becca     Swanson            Marketing                NaN  22.0   \n3   2228     Halima       Aminu   Business Analytics                NaN  20.0   \n4   2442      Holly    Robinson              Finance                NaN  20.0   \n5   2858      Carla     Harding          Accountancy                NaN   NaN   \n6   3459       Alex     Swanson          Accountancy                NaN   NaN   \n7   3585     Aminah       Zalim            Marketing                NaN  20.0   \n8   5170        Gus  Cunningham              Finance         Innovation  21.0   \n9   5317     Rafael       Solis   Business Analytics               ACMS   NaN   \n10  5336      Homer       White              Finance                NaN   NaN   \n11  5495       Lara       Woods          Accountancy                NaN   NaN   \n12  6453       Otis     Johnson           Management  Political Science  19.0   \n13  6504  Chantelle       Woods  Business Technology                NaN  18.0   \n14  6768   Caroline       Marsh   Business Analytics               ACMS  22.0   \n15  7511      Laila     Carroll            Marketing         Innovation  20.0   \n16  7965      Rocco      Decola              Finance         Innovation  21.0   \n17  9232      Julie      Holmes  Business Technology         Innovation  18.0   \n18  9268     Albert      Palmer           Management        Real Estate  21.0   \n19  9941       Zoya       Doyle   Business Analytics                NaN   NaN   \n\n                 Gender             City State      Zip  \n0                Female              NaN   NaN      NaN  \n1                Female  Berrien Springs   NaN      NaN  \n2                Female          Chicago    IL  60608.0  \n3                Female          Atlanta    GA  30303.0  \n4                Female        Charlotte    NC  28202.0  \n5                Female       Youngstown    OH  44502.0  \n6   Rather not disclose          Granger    IN      NaN  \n7                Female          Ashburn    VA  20147.0  \n8                  Male        Massillon    OH  44646.0  \n9   Rather not disclose       South Bend    IN  46601.0  \n10                 Male         St. Paul    MN  55101.0  \n11  Rather not disclose           Dallas    TX  75201.0  \n12                 Male        Anchorage    AK  99501.0  \n13               Female          Chicago   NaN  60608.0  \n14               Female            Niles    MI      NaN  \n15               Female         New York    NY  10001.0  \n16                 Male          Oakland    CA  94603.0  \n17               Female          Webster    NY  14580.0  \n18                 Male          Detroit    MI  48201.0  \n19               Female          Chicago    IL  60608.0  ",
      "text/html": "<div>\n<style scoped>\n    .dataframe tbody tr th:only-of-type {\n        vertical-align: middle;\n    }\n\n    .dataframe tbody tr th {\n        vertical-align: top;\n    }\n\n    .dataframe thead th {\n        text-align: right;\n    }\n</style>\n<table border=\"1\" class=\"dataframe\">\n  <thead>\n    <tr style=\"text-align: right;\">\n      <th></th>\n      <th>ID</th>\n      <th>FirstName</th>\n      <th>LastName</th>\n      <th>Major</th>\n      <th>Minor</th>\n      <th>Age</th>\n      <th>Gender</th>\n      <th>City</th>\n      <th>State</th>\n      <th>Zip</th>\n    </tr>\n  </thead>\n  <tbody>\n    <tr>\n      <th>0</th>\n      <td>1869</td>\n      <td>Hana</td>\n      <td>Barton</td>\n      <td>Finance</td>\n      <td>NaN</td>\n      <td>22.0</td>\n      <td>Female</td>\n      <td>NaN</td>\n      <td>NaN</td>\n      <td>NaN</td>\n    </tr>\n    <tr>\n      <th>1</th>\n      <td>2010</td>\n      <td>Alicia</td>\n      <td>Kanuri</td>\n      <td>Management</td>\n      <td>NaN</td>\n      <td>21.0</td>\n      <td>Female</td>\n      <td>Berrien Springs</td>\n      <td>NaN</td>\n      <td>NaN</td>\n    </tr>\n    <tr>\n      <th>2</th>\n      <td>2075</td>\n      <td>Becca</td>\n      <td>Swanson</td>\n      <td>Marketing</td>\n      <td>NaN</td>\n      <td>22.0</td>\n      <td>Female</td>\n      <td>Chicago</td>\n      <td>IL</td>\n      <td>60608.0</td>\n    </tr>\n    <tr>\n      <th>3</th>\n      <td>2228</td>\n      <td>Halima</td>\n      <td>Aminu</td>\n      <td>Business Analytics</td>\n      <td>NaN</td>\n      <td>20.0</td>\n      <td>Female</td>\n      <td>Atlanta</td>\n      <td>GA</td>\n      <td>30303.0</td>\n    </tr>\n    <tr>\n      <th>4</th>\n      <td>2442</td>\n      <td>Holly</td>\n      <td>Robinson</td>\n      <td>Finance</td>\n      <td>NaN</td>\n      <td>20.0</td>\n      <td>Female</td>\n      <td>Charlotte</td>\n      <td>NC</td>\n      <td>28202.0</td>\n    </tr>\n    <tr>\n      <th>5</th>\n      <td>2858</td>\n      <td>Carla</td>\n      <td>Harding</td>\n      <td>Accountancy</td>\n      <td>NaN</td>\n      <td>NaN</td>\n      <td>Female</td>\n      <td>Youngstown</td>\n      <td>OH</td>\n      <td>44502.0</td>\n    </tr>\n    <tr>\n      <th>6</th>\n      <td>3459</td>\n      <td>Alex</td>\n      <td>Swanson</td>\n      <td>Accountancy</td>\n      <td>NaN</td>\n      <td>NaN</td>\n      <td>Rather not disclose</td>\n      <td>Granger</td>\n      <td>IN</td>\n      <td>NaN</td>\n    </tr>\n    <tr>\n      <th>7</th>\n      <td>3585</td>\n      <td>Aminah</td>\n      <td>Zalim</td>\n      <td>Marketing</td>\n      <td>NaN</td>\n      <td>20.0</td>\n      <td>Female</td>\n      <td>Ashburn</td>\n      <td>VA</td>\n      <td>20147.0</td>\n    </tr>\n    <tr>\n      <th>8</th>\n      <td>5170</td>\n      <td>Gus</td>\n      <td>Cunningham</td>\n      <td>Finance</td>\n      <td>Innovation</td>\n      <td>21.0</td>\n      <td>Male</td>\n      <td>Massillon</td>\n      <td>OH</td>\n      <td>44646.0</td>\n    </tr>\n    <tr>\n      <th>9</th>\n      <td>5317</td>\n      <td>Rafael</td>\n      <td>Solis</td>\n      <td>Business Analytics</td>\n      <td>ACMS</td>\n      <td>NaN</td>\n      <td>Rather not disclose</td>\n      <td>South Bend</td>\n      <td>IN</td>\n      <td>46601.0</td>\n    </tr>\n    <tr>\n      <th>10</th>\n      <td>5336</td>\n      <td>Homer</td>\n      <td>White</td>\n      <td>Finance</td>\n      <td>NaN</td>\n      <td>NaN</td>\n      <td>Male</td>\n      <td>St. Paul</td>\n      <td>MN</td>\n      <td>55101.0</td>\n    </tr>\n    <tr>\n      <th>11</th>\n      <td>5495</td>\n      <td>Lara</td>\n      <td>Woods</td>\n      <td>Accountancy</td>\n      <td>NaN</td>\n      <td>NaN</td>\n      <td>Rather not disclose</td>\n      <td>Dallas</td>\n      <td>TX</td>\n      <td>75201.0</td>\n    </tr>\n    <tr>\n      <th>12</th>\n      <td>6453</td>\n      <td>Otis</td>\n      <td>Johnson</td>\n      <td>Management</td>\n      <td>Political Science</td>\n      <td>19.0</td>\n      <td>Male</td>\n      <td>Anchorage</td>\n      <td>AK</td>\n      <td>99501.0</td>\n    </tr>\n    <tr>\n      <th>13</th>\n      <td>6504</td>\n      <td>Chantelle</td>\n      <td>Woods</td>\n      <td>Business Technology</td>\n      <td>NaN</td>\n      <td>18.0</td>\n      <td>Female</td>\n      <td>Chicago</td>\n      <td>NaN</td>\n      <td>60608.0</td>\n    </tr>\n    <tr>\n      <th>14</th>\n      <td>6768</td>\n      <td>Caroline</td>\n      <td>Marsh</td>\n      <td>Business Analytics</td>\n      <td>ACMS</td>\n      <td>22.0</td>\n      <td>Female</td>\n      <td>Niles</td>\n      <td>MI</td>\n      <td>NaN</td>\n    </tr>\n    <tr>\n      <th>15</th>\n      <td>7511</td>\n      <td>Laila</td>\n      <td>Carroll</td>\n      <td>Marketing</td>\n      <td>Innovation</td>\n      <td>20.0</td>\n      <td>Female</td>\n      <td>New York</td>\n      <td>NY</td>\n      <td>10001.0</td>\n    </tr>\n    <tr>\n      <th>16</th>\n      <td>7965</td>\n      <td>Rocco</td>\n      <td>Decola</td>\n      <td>Finance</td>\n      <td>Innovation</td>\n      <td>21.0</td>\n      <td>Male</td>\n      <td>Oakland</td>\n      <td>CA</td>\n      <td>94603.0</td>\n    </tr>\n    <tr>\n      <th>17</th>\n      <td>9232</td>\n      <td>Julie</td>\n      <td>Holmes</td>\n      <td>Business Technology</td>\n      <td>Innovation</td>\n      <td>18.0</td>\n      <td>Female</td>\n      <td>Webster</td>\n      <td>NY</td>\n      <td>14580.0</td>\n    </tr>\n    <tr>\n      <th>18</th>\n      <td>9268</td>\n      <td>Albert</td>\n      <td>Palmer</td>\n      <td>Management</td>\n      <td>Real Estate</td>\n      <td>21.0</td>\n      <td>Male</td>\n      <td>Detroit</td>\n      <td>MI</td>\n      <td>48201.0</td>\n    </tr>\n    <tr>\n      <th>19</th>\n      <td>9941</td>\n      <td>Zoya</td>\n      <td>Doyle</td>\n      <td>Business Analytics</td>\n      <td>NaN</td>\n      <td>NaN</td>\n      <td>Female</td>\n      <td>Chicago</td>\n      <td>IL</td>\n      <td>60608.0</td>\n    </tr>\n  </tbody>\n</table>\n</div>"
     },
     "execution_count": 24,
     "metadata": {},
     "output_type": "execute_result"
    }
   ],
   "source": [
    "# We can replace empty instance values by passing them as a dict in the fillna method\n",
    "total_school = school.fillna({\"Gender\":\"Rather not disclose\"})\n",
    "total_school\n",
    "# We have replaced all missing values under the \"Gender\" feature with \"Rather not disclose\""
   ],
   "metadata": {
    "collapsed": false,
    "pycharm": {
     "name": "#%%\n"
    }
   }
  },
  {
   "cell_type": "code",
   "execution_count": 25,
   "outputs": [
    {
     "data": {
      "text/plain": "      ID  FirstName    LastName                Major              Minor   Age  \\\n0   1869       Hana      Barton              Finance                NaN  22.0   \n1   2010     Alicia      Kanuri           Management                NaN  21.0   \n2   2075      Becca     Swanson            Marketing                NaN  22.0   \n3   2228     Halima       Aminu   Business Analytics                NaN  20.0   \n4   2442      Holly    Robinson              Finance                NaN  20.0   \n5   2858      Carla     Harding          Accountancy                NaN  20.5   \n6   3459       Alex     Swanson          Accountancy                NaN  20.5   \n7   3585     Aminah       Zalim            Marketing                NaN  20.0   \n8   5170        Gus  Cunningham              Finance         Innovation  21.0   \n9   5317     Rafael       Solis   Business Analytics               ACMS  20.5   \n10  5336      Homer       White              Finance                NaN  20.5   \n11  5495       Lara       Woods          Accountancy                NaN  20.5   \n12  6453       Otis     Johnson           Management  Political Science  19.0   \n13  6504  Chantelle       Woods  Business Technology                NaN  18.0   \n14  6768   Caroline       Marsh   Business Analytics               ACMS  22.0   \n15  7511      Laila     Carroll            Marketing         Innovation  20.0   \n16  7965      Rocco      Decola              Finance         Innovation  21.0   \n17  9232      Julie      Holmes  Business Technology         Innovation  18.0   \n18  9268     Albert      Palmer           Management        Real Estate  21.0   \n19  9941       Zoya       Doyle   Business Analytics                NaN  20.5   \n\n    Gender             City State      Zip  \n0   Female              NaN   NaN      NaN  \n1   Female  Berrien Springs   NaN      NaN  \n2   Female          Chicago    IL  60608.0  \n3   Female          Atlanta    GA  30303.0  \n4   Female        Charlotte    NC  28202.0  \n5   Female       Youngstown    OH  44502.0  \n6      NaN          Granger    IN      NaN  \n7   Female          Ashburn    VA  20147.0  \n8     Male        Massillon    OH  44646.0  \n9      NaN       South Bend    IN  46601.0  \n10    Male         St. Paul    MN  55101.0  \n11     NaN           Dallas    TX  75201.0  \n12    Male        Anchorage    AK  99501.0  \n13  Female          Chicago   NaN  60608.0  \n14  Female            Niles    MI      NaN  \n15  Female         New York    NY  10001.0  \n16    Male          Oakland    CA  94603.0  \n17  Female          Webster    NY  14580.0  \n18    Male          Detroit    MI  48201.0  \n19  Female          Chicago    IL  60608.0  ",
      "text/html": "<div>\n<style scoped>\n    .dataframe tbody tr th:only-of-type {\n        vertical-align: middle;\n    }\n\n    .dataframe tbody tr th {\n        vertical-align: top;\n    }\n\n    .dataframe thead th {\n        text-align: right;\n    }\n</style>\n<table border=\"1\" class=\"dataframe\">\n  <thead>\n    <tr style=\"text-align: right;\">\n      <th></th>\n      <th>ID</th>\n      <th>FirstName</th>\n      <th>LastName</th>\n      <th>Major</th>\n      <th>Minor</th>\n      <th>Age</th>\n      <th>Gender</th>\n      <th>City</th>\n      <th>State</th>\n      <th>Zip</th>\n    </tr>\n  </thead>\n  <tbody>\n    <tr>\n      <th>0</th>\n      <td>1869</td>\n      <td>Hana</td>\n      <td>Barton</td>\n      <td>Finance</td>\n      <td>NaN</td>\n      <td>22.0</td>\n      <td>Female</td>\n      <td>NaN</td>\n      <td>NaN</td>\n      <td>NaN</td>\n    </tr>\n    <tr>\n      <th>1</th>\n      <td>2010</td>\n      <td>Alicia</td>\n      <td>Kanuri</td>\n      <td>Management</td>\n      <td>NaN</td>\n      <td>21.0</td>\n      <td>Female</td>\n      <td>Berrien Springs</td>\n      <td>NaN</td>\n      <td>NaN</td>\n    </tr>\n    <tr>\n      <th>2</th>\n      <td>2075</td>\n      <td>Becca</td>\n      <td>Swanson</td>\n      <td>Marketing</td>\n      <td>NaN</td>\n      <td>22.0</td>\n      <td>Female</td>\n      <td>Chicago</td>\n      <td>IL</td>\n      <td>60608.0</td>\n    </tr>\n    <tr>\n      <th>3</th>\n      <td>2228</td>\n      <td>Halima</td>\n      <td>Aminu</td>\n      <td>Business Analytics</td>\n      <td>NaN</td>\n      <td>20.0</td>\n      <td>Female</td>\n      <td>Atlanta</td>\n      <td>GA</td>\n      <td>30303.0</td>\n    </tr>\n    <tr>\n      <th>4</th>\n      <td>2442</td>\n      <td>Holly</td>\n      <td>Robinson</td>\n      <td>Finance</td>\n      <td>NaN</td>\n      <td>20.0</td>\n      <td>Female</td>\n      <td>Charlotte</td>\n      <td>NC</td>\n      <td>28202.0</td>\n    </tr>\n    <tr>\n      <th>5</th>\n      <td>2858</td>\n      <td>Carla</td>\n      <td>Harding</td>\n      <td>Accountancy</td>\n      <td>NaN</td>\n      <td>20.5</td>\n      <td>Female</td>\n      <td>Youngstown</td>\n      <td>OH</td>\n      <td>44502.0</td>\n    </tr>\n    <tr>\n      <th>6</th>\n      <td>3459</td>\n      <td>Alex</td>\n      <td>Swanson</td>\n      <td>Accountancy</td>\n      <td>NaN</td>\n      <td>20.5</td>\n      <td>NaN</td>\n      <td>Granger</td>\n      <td>IN</td>\n      <td>NaN</td>\n    </tr>\n    <tr>\n      <th>7</th>\n      <td>3585</td>\n      <td>Aminah</td>\n      <td>Zalim</td>\n      <td>Marketing</td>\n      <td>NaN</td>\n      <td>20.0</td>\n      <td>Female</td>\n      <td>Ashburn</td>\n      <td>VA</td>\n      <td>20147.0</td>\n    </tr>\n    <tr>\n      <th>8</th>\n      <td>5170</td>\n      <td>Gus</td>\n      <td>Cunningham</td>\n      <td>Finance</td>\n      <td>Innovation</td>\n      <td>21.0</td>\n      <td>Male</td>\n      <td>Massillon</td>\n      <td>OH</td>\n      <td>44646.0</td>\n    </tr>\n    <tr>\n      <th>9</th>\n      <td>5317</td>\n      <td>Rafael</td>\n      <td>Solis</td>\n      <td>Business Analytics</td>\n      <td>ACMS</td>\n      <td>20.5</td>\n      <td>NaN</td>\n      <td>South Bend</td>\n      <td>IN</td>\n      <td>46601.0</td>\n    </tr>\n    <tr>\n      <th>10</th>\n      <td>5336</td>\n      <td>Homer</td>\n      <td>White</td>\n      <td>Finance</td>\n      <td>NaN</td>\n      <td>20.5</td>\n      <td>Male</td>\n      <td>St. Paul</td>\n      <td>MN</td>\n      <td>55101.0</td>\n    </tr>\n    <tr>\n      <th>11</th>\n      <td>5495</td>\n      <td>Lara</td>\n      <td>Woods</td>\n      <td>Accountancy</td>\n      <td>NaN</td>\n      <td>20.5</td>\n      <td>NaN</td>\n      <td>Dallas</td>\n      <td>TX</td>\n      <td>75201.0</td>\n    </tr>\n    <tr>\n      <th>12</th>\n      <td>6453</td>\n      <td>Otis</td>\n      <td>Johnson</td>\n      <td>Management</td>\n      <td>Political Science</td>\n      <td>19.0</td>\n      <td>Male</td>\n      <td>Anchorage</td>\n      <td>AK</td>\n      <td>99501.0</td>\n    </tr>\n    <tr>\n      <th>13</th>\n      <td>6504</td>\n      <td>Chantelle</td>\n      <td>Woods</td>\n      <td>Business Technology</td>\n      <td>NaN</td>\n      <td>18.0</td>\n      <td>Female</td>\n      <td>Chicago</td>\n      <td>NaN</td>\n      <td>60608.0</td>\n    </tr>\n    <tr>\n      <th>14</th>\n      <td>6768</td>\n      <td>Caroline</td>\n      <td>Marsh</td>\n      <td>Business Analytics</td>\n      <td>ACMS</td>\n      <td>22.0</td>\n      <td>Female</td>\n      <td>Niles</td>\n      <td>MI</td>\n      <td>NaN</td>\n    </tr>\n    <tr>\n      <th>15</th>\n      <td>7511</td>\n      <td>Laila</td>\n      <td>Carroll</td>\n      <td>Marketing</td>\n      <td>Innovation</td>\n      <td>20.0</td>\n      <td>Female</td>\n      <td>New York</td>\n      <td>NY</td>\n      <td>10001.0</td>\n    </tr>\n    <tr>\n      <th>16</th>\n      <td>7965</td>\n      <td>Rocco</td>\n      <td>Decola</td>\n      <td>Finance</td>\n      <td>Innovation</td>\n      <td>21.0</td>\n      <td>Male</td>\n      <td>Oakland</td>\n      <td>CA</td>\n      <td>94603.0</td>\n    </tr>\n    <tr>\n      <th>17</th>\n      <td>9232</td>\n      <td>Julie</td>\n      <td>Holmes</td>\n      <td>Business Technology</td>\n      <td>Innovation</td>\n      <td>18.0</td>\n      <td>Female</td>\n      <td>Webster</td>\n      <td>NY</td>\n      <td>14580.0</td>\n    </tr>\n    <tr>\n      <th>18</th>\n      <td>9268</td>\n      <td>Albert</td>\n      <td>Palmer</td>\n      <td>Management</td>\n      <td>Real Estate</td>\n      <td>21.0</td>\n      <td>Male</td>\n      <td>Detroit</td>\n      <td>MI</td>\n      <td>48201.0</td>\n    </tr>\n    <tr>\n      <th>19</th>\n      <td>9941</td>\n      <td>Zoya</td>\n      <td>Doyle</td>\n      <td>Business Analytics</td>\n      <td>NaN</td>\n      <td>20.5</td>\n      <td>Female</td>\n      <td>Chicago</td>\n      <td>IL</td>\n      <td>60608.0</td>\n    </tr>\n  </tbody>\n</table>\n</div>"
     },
     "execution_count": 25,
     "metadata": {},
     "output_type": "execute_result"
    }
   ],
   "source": [
    "# Instead of hard-coding replacement values, we can also replace them with a function\n",
    "# For example, we can replace the empty values under the \"Age\" feature with the median of the age of the students\n",
    "# <dataset>.fillna({\"<feature>\":<dataset>[\"<feature>\"].median()})\n",
    "total_school = school.fillna({\"Age\":school[\"Age\"].median()})\n",
    "total_school\n",
    "# We see that the missing values in the age instance have been replaced by the median of the non-null values under \"Age\""
   ],
   "metadata": {
    "collapsed": false,
    "pycharm": {
     "name": "#%%\n"
    }
   }
  },
  {
   "cell_type": "code",
   "execution_count": 29,
   "outputs": [
    {
     "data": {
      "text/plain": "      ID FirstName LastName               Major Minor   Age  Gender     City  \\\n2   2075     Becca  Swanson           Marketing   NaN  22.0  Female  Chicago   \n19  9941      Zoya    Doyle  Business Analytics   NaN   NaN  Female  Chicago   \n\n   State      Zip  \n2     IL  60608.0  \n19    IL  60608.0  ",
      "text/html": "<div>\n<style scoped>\n    .dataframe tbody tr th:only-of-type {\n        vertical-align: middle;\n    }\n\n    .dataframe tbody tr th {\n        vertical-align: top;\n    }\n\n    .dataframe thead th {\n        text-align: right;\n    }\n</style>\n<table border=\"1\" class=\"dataframe\">\n  <thead>\n    <tr style=\"text-align: right;\">\n      <th></th>\n      <th>ID</th>\n      <th>FirstName</th>\n      <th>LastName</th>\n      <th>Major</th>\n      <th>Minor</th>\n      <th>Age</th>\n      <th>Gender</th>\n      <th>City</th>\n      <th>State</th>\n      <th>Zip</th>\n    </tr>\n  </thead>\n  <tbody>\n    <tr>\n      <th>2</th>\n      <td>2075</td>\n      <td>Becca</td>\n      <td>Swanson</td>\n      <td>Marketing</td>\n      <td>NaN</td>\n      <td>22.0</td>\n      <td>Female</td>\n      <td>Chicago</td>\n      <td>IL</td>\n      <td>60608.0</td>\n    </tr>\n    <tr>\n      <th>19</th>\n      <td>9941</td>\n      <td>Zoya</td>\n      <td>Doyle</td>\n      <td>Business Analytics</td>\n      <td>NaN</td>\n      <td>NaN</td>\n      <td>Female</td>\n      <td>Chicago</td>\n      <td>IL</td>\n      <td>60608.0</td>\n    </tr>\n  </tbody>\n</table>\n</div>"
     },
     "execution_count": 29,
     "metadata": {},
     "output_type": "execute_result"
    }
   ],
   "source": [
    "# We can locate specific instances according to their value under an instance. Multiple values can be separated by the \"&\" operator\n",
    "# (<dataset>[\"<instance_name>\"] == \"<instance_value>\") & (school[\"<instance_name>\"] == \"<instance_value>\")\n",
    "filter_instance = (school[\"Gender\"] == \"Female\") & (school[\"State\"] == \"IL\")\n",
    "# We can use the \"loc\" method to locate the intance as per the set filter as follows\n",
    "school.loc[filter_instance, :]"
   ],
   "metadata": {
    "collapsed": false,
    "pycharm": {
     "name": "#%%\n"
    }
   }
  },
  {
   "cell_type": "code",
   "execution_count": 31,
   "outputs": [
    {
     "data": {
      "text/plain": "      ID  FirstName    LastName                Major              Minor   Age  \\\n0   1869       Hana      Barton              Finance                NaN  22.0   \n1   2010     Alicia      Kanuri           Management                NaN  21.0   \n2   9999      Becca     Swanson            Marketing                NaN  22.0   \n3   2228     Halima       Aminu   Business Analytics                NaN  20.0   \n4   2442      Holly    Robinson              Finance                NaN  20.0   \n5   2858      Carla     Harding          Accountancy                NaN   NaN   \n6   3459       Alex     Swanson          Accountancy                NaN   NaN   \n7   3585     Aminah       Zalim            Marketing                NaN  20.0   \n8   5170        Gus  Cunningham              Finance         Innovation  21.0   \n9   5317     Rafael       Solis   Business Analytics               ACMS   NaN   \n10  5336      Homer       White              Finance                NaN   NaN   \n11  5495       Lara       Woods          Accountancy                NaN   NaN   \n12  6453       Otis     Johnson           Management  Political Science  19.0   \n13  6504  Chantelle       Woods  Business Technology                NaN  18.0   \n14  6768   Caroline       Marsh   Business Analytics               ACMS  22.0   \n15  7511      Laila     Carroll            Marketing         Innovation  20.0   \n16  7965      Rocco      Decola              Finance         Innovation  21.0   \n17  9232      Julie      Holmes  Business Technology         Innovation  18.0   \n18  9268     Albert      Palmer           Management        Real Estate  21.0   \n19  9999       Zoya       Doyle   Business Analytics                NaN   NaN   \n\n    Gender             City State      Zip  \n0   Female              NaN   NaN      NaN  \n1   Female  Berrien Springs   NaN      NaN  \n2   Female          Chicago    IL  60608.0  \n3   Female          Atlanta    GA  30303.0  \n4   Female        Charlotte    NC  28202.0  \n5   Female       Youngstown    OH  44502.0  \n6      NaN          Granger    IN      NaN  \n7   Female          Ashburn    VA  20147.0  \n8     Male        Massillon    OH  44646.0  \n9      NaN       South Bend    IN  46601.0  \n10    Male         St. Paul    MN  55101.0  \n11     NaN           Dallas    TX  75201.0  \n12    Male        Anchorage    AK  99501.0  \n13  Female          Chicago   NaN  60608.0  \n14  Female            Niles    MI      NaN  \n15  Female         New York    NY  10001.0  \n16    Male          Oakland    CA  94603.0  \n17  Female          Webster    NY  14580.0  \n18    Male          Detroit    MI  48201.0  \n19  Female          Chicago    IL  60608.0  ",
      "text/html": "<div>\n<style scoped>\n    .dataframe tbody tr th:only-of-type {\n        vertical-align: middle;\n    }\n\n    .dataframe tbody tr th {\n        vertical-align: top;\n    }\n\n    .dataframe thead th {\n        text-align: right;\n    }\n</style>\n<table border=\"1\" class=\"dataframe\">\n  <thead>\n    <tr style=\"text-align: right;\">\n      <th></th>\n      <th>ID</th>\n      <th>FirstName</th>\n      <th>LastName</th>\n      <th>Major</th>\n      <th>Minor</th>\n      <th>Age</th>\n      <th>Gender</th>\n      <th>City</th>\n      <th>State</th>\n      <th>Zip</th>\n    </tr>\n  </thead>\n  <tbody>\n    <tr>\n      <th>0</th>\n      <td>1869</td>\n      <td>Hana</td>\n      <td>Barton</td>\n      <td>Finance</td>\n      <td>NaN</td>\n      <td>22.0</td>\n      <td>Female</td>\n      <td>NaN</td>\n      <td>NaN</td>\n      <td>NaN</td>\n    </tr>\n    <tr>\n      <th>1</th>\n      <td>2010</td>\n      <td>Alicia</td>\n      <td>Kanuri</td>\n      <td>Management</td>\n      <td>NaN</td>\n      <td>21.0</td>\n      <td>Female</td>\n      <td>Berrien Springs</td>\n      <td>NaN</td>\n      <td>NaN</td>\n    </tr>\n    <tr>\n      <th>2</th>\n      <td>9999</td>\n      <td>Becca</td>\n      <td>Swanson</td>\n      <td>Marketing</td>\n      <td>NaN</td>\n      <td>22.0</td>\n      <td>Female</td>\n      <td>Chicago</td>\n      <td>IL</td>\n      <td>60608.0</td>\n    </tr>\n    <tr>\n      <th>3</th>\n      <td>2228</td>\n      <td>Halima</td>\n      <td>Aminu</td>\n      <td>Business Analytics</td>\n      <td>NaN</td>\n      <td>20.0</td>\n      <td>Female</td>\n      <td>Atlanta</td>\n      <td>GA</td>\n      <td>30303.0</td>\n    </tr>\n    <tr>\n      <th>4</th>\n      <td>2442</td>\n      <td>Holly</td>\n      <td>Robinson</td>\n      <td>Finance</td>\n      <td>NaN</td>\n      <td>20.0</td>\n      <td>Female</td>\n      <td>Charlotte</td>\n      <td>NC</td>\n      <td>28202.0</td>\n    </tr>\n    <tr>\n      <th>5</th>\n      <td>2858</td>\n      <td>Carla</td>\n      <td>Harding</td>\n      <td>Accountancy</td>\n      <td>NaN</td>\n      <td>NaN</td>\n      <td>Female</td>\n      <td>Youngstown</td>\n      <td>OH</td>\n      <td>44502.0</td>\n    </tr>\n    <tr>\n      <th>6</th>\n      <td>3459</td>\n      <td>Alex</td>\n      <td>Swanson</td>\n      <td>Accountancy</td>\n      <td>NaN</td>\n      <td>NaN</td>\n      <td>NaN</td>\n      <td>Granger</td>\n      <td>IN</td>\n      <td>NaN</td>\n    </tr>\n    <tr>\n      <th>7</th>\n      <td>3585</td>\n      <td>Aminah</td>\n      <td>Zalim</td>\n      <td>Marketing</td>\n      <td>NaN</td>\n      <td>20.0</td>\n      <td>Female</td>\n      <td>Ashburn</td>\n      <td>VA</td>\n      <td>20147.0</td>\n    </tr>\n    <tr>\n      <th>8</th>\n      <td>5170</td>\n      <td>Gus</td>\n      <td>Cunningham</td>\n      <td>Finance</td>\n      <td>Innovation</td>\n      <td>21.0</td>\n      <td>Male</td>\n      <td>Massillon</td>\n      <td>OH</td>\n      <td>44646.0</td>\n    </tr>\n    <tr>\n      <th>9</th>\n      <td>5317</td>\n      <td>Rafael</td>\n      <td>Solis</td>\n      <td>Business Analytics</td>\n      <td>ACMS</td>\n      <td>NaN</td>\n      <td>NaN</td>\n      <td>South Bend</td>\n      <td>IN</td>\n      <td>46601.0</td>\n    </tr>\n    <tr>\n      <th>10</th>\n      <td>5336</td>\n      <td>Homer</td>\n      <td>White</td>\n      <td>Finance</td>\n      <td>NaN</td>\n      <td>NaN</td>\n      <td>Male</td>\n      <td>St. Paul</td>\n      <td>MN</td>\n      <td>55101.0</td>\n    </tr>\n    <tr>\n      <th>11</th>\n      <td>5495</td>\n      <td>Lara</td>\n      <td>Woods</td>\n      <td>Accountancy</td>\n      <td>NaN</td>\n      <td>NaN</td>\n      <td>NaN</td>\n      <td>Dallas</td>\n      <td>TX</td>\n      <td>75201.0</td>\n    </tr>\n    <tr>\n      <th>12</th>\n      <td>6453</td>\n      <td>Otis</td>\n      <td>Johnson</td>\n      <td>Management</td>\n      <td>Political Science</td>\n      <td>19.0</td>\n      <td>Male</td>\n      <td>Anchorage</td>\n      <td>AK</td>\n      <td>99501.0</td>\n    </tr>\n    <tr>\n      <th>13</th>\n      <td>6504</td>\n      <td>Chantelle</td>\n      <td>Woods</td>\n      <td>Business Technology</td>\n      <td>NaN</td>\n      <td>18.0</td>\n      <td>Female</td>\n      <td>Chicago</td>\n      <td>NaN</td>\n      <td>60608.0</td>\n    </tr>\n    <tr>\n      <th>14</th>\n      <td>6768</td>\n      <td>Caroline</td>\n      <td>Marsh</td>\n      <td>Business Analytics</td>\n      <td>ACMS</td>\n      <td>22.0</td>\n      <td>Female</td>\n      <td>Niles</td>\n      <td>MI</td>\n      <td>NaN</td>\n    </tr>\n    <tr>\n      <th>15</th>\n      <td>7511</td>\n      <td>Laila</td>\n      <td>Carroll</td>\n      <td>Marketing</td>\n      <td>Innovation</td>\n      <td>20.0</td>\n      <td>Female</td>\n      <td>New York</td>\n      <td>NY</td>\n      <td>10001.0</td>\n    </tr>\n    <tr>\n      <th>16</th>\n      <td>7965</td>\n      <td>Rocco</td>\n      <td>Decola</td>\n      <td>Finance</td>\n      <td>Innovation</td>\n      <td>21.0</td>\n      <td>Male</td>\n      <td>Oakland</td>\n      <td>CA</td>\n      <td>94603.0</td>\n    </tr>\n    <tr>\n      <th>17</th>\n      <td>9232</td>\n      <td>Julie</td>\n      <td>Holmes</td>\n      <td>Business Technology</td>\n      <td>Innovation</td>\n      <td>18.0</td>\n      <td>Female</td>\n      <td>Webster</td>\n      <td>NY</td>\n      <td>14580.0</td>\n    </tr>\n    <tr>\n      <th>18</th>\n      <td>9268</td>\n      <td>Albert</td>\n      <td>Palmer</td>\n      <td>Management</td>\n      <td>Real Estate</td>\n      <td>21.0</td>\n      <td>Male</td>\n      <td>Detroit</td>\n      <td>MI</td>\n      <td>48201.0</td>\n    </tr>\n    <tr>\n      <th>19</th>\n      <td>9999</td>\n      <td>Zoya</td>\n      <td>Doyle</td>\n      <td>Business Analytics</td>\n      <td>NaN</td>\n      <td>NaN</td>\n      <td>Female</td>\n      <td>Chicago</td>\n      <td>IL</td>\n      <td>60608.0</td>\n    </tr>\n  </tbody>\n</table>\n</div>"
     },
     "execution_count": 31,
     "metadata": {},
     "output_type": "execute_result"
    }
   ],
   "source": [
    "# We can change the value of an instance over th filtered data\n",
    "#\n",
    "school.loc[filter_instance, \"ID\"] = 9999\n",
    "school\n",
    "# Here we see that the values under the \"ID\" parameter for the filtered instances got replaced by 9999"
   ],
   "metadata": {
    "collapsed": false,
    "pycharm": {
     "name": "#%%\n"
    }
   }
  }
 ],
 "metadata": {
  "kernelspec": {
   "display_name": "Python 3",
   "language": "python",
   "name": "python3"
  },
  "language_info": {
   "codemirror_mode": {
    "name": "ipython",
    "version": 2
   },
   "file_extension": ".py",
   "mimetype": "text/x-python",
   "name": "python",
   "nbconvert_exporter": "python",
   "pygments_lexer": "ipython2",
   "version": "2.7.6"
  }
 },
 "nbformat": 4,
 "nbformat_minor": 0
}