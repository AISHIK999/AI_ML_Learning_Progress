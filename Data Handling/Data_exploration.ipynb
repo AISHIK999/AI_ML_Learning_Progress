{
 "cells": [
  {
   "cell_type": "markdown",
   "source": [
    "# DATA EXPLORATION\n",
    "\n",
    "Data exploration is used to visually represent and analyze data.\n",
    "\n",
    "Each row of a dataset is an independent, the collection of which represents the entire dataset. These rows are called **instances**\n",
    "A specific and different property of each instance is represented in the columns. These are also called **features** or **variables**\n",
    "\n",
    "A feature can be:\n",
    "\n",
    "- **Categorical**: When its value is discrete and ranges from a set of finite values (e.g., name, garde etc)\n",
    "- **Continuous**: When it ranges from a lower to an upper bound in infinite combinations. These are of integer type\n",
    "\n",
    "A **class** or **response** is a dependent variable, which depends on independent variable(s) in the dataset. If the dependent variable is discrete, it is called **class**. If it is continuous, it is called **response**.\n",
    "\n",
    "**Dimensionality** of a dataset is the number of features contained in the dataset. Higher the dimensionality, more precise the data, and more the computational capacity needed to work with the dataset."
   ],
   "metadata": {
    "collapsed": false,
    "pycharm": {
     "name": "#%% md\n"
    }
   }
  },
  {
   "cell_type": "code",
   "execution_count": 1,
   "outputs": [
    {
     "name": "stdout",
     "output_type": "stream",
     "text": [
      "<class 'pandas.core.frame.DataFrame'>\n",
      "RangeIndex: 2000 entries, 0 to 1999\n",
      "Data columns (total 18 columns):\n",
      " #   Column            Non-Null Count  Dtype  \n",
      "---  ------            --------------  -----  \n",
      " 0   artist            2000 non-null   object \n",
      " 1   song              2000 non-null   object \n",
      " 2   duration_ms       2000 non-null   int64  \n",
      " 3   explicit          2000 non-null   bool   \n",
      " 4   year              2000 non-null   int64  \n",
      " 5   popularity        2000 non-null   int64  \n",
      " 6   danceability      2000 non-null   float64\n",
      " 7   energy            2000 non-null   float64\n",
      " 8   key               2000 non-null   int64  \n",
      " 9   loudness          2000 non-null   float64\n",
      " 10  mode              2000 non-null   int64  \n",
      " 11  speechiness       2000 non-null   float64\n",
      " 12  acousticness      2000 non-null   float64\n",
      " 13  instrumentalness  2000 non-null   float64\n",
      " 14  liveness          2000 non-null   float64\n",
      " 15  valence           2000 non-null   float64\n",
      " 16  tempo             2000 non-null   float64\n",
      " 17  genre             2000 non-null   object \n",
      "dtypes: bool(1), float64(9), int64(5), object(3)\n",
      "memory usage: 267.7+ KB\n"
     ]
    }
   ],
   "source": [
    "# The info method allows us to gather information about the contents of the dataset\n",
    "# Calling the info method and observing the output, we have analyzed:\n",
    "# The dataset has 261 rows, 18 columns, out of which, 5 hold decimal values, 3 hold integer values and 10 contain string values\n",
    "import pandas as pd\n",
    "spotify_artists = pd.read_csv(\"data/songs_normalize.csv\")\n",
    "spotify_artists.info()"
   ],
   "metadata": {
    "collapsed": false,
    "pycharm": {
     "name": "#%%\n"
    }
   }
  },
  {
   "cell_type": "code",
   "execution_count": 2,
   "outputs": [
    {
     "data": {
      "text/plain": "           artist                    song  duration_ms  explicit  year  \\\n0  Britney Spears  Oops!...I Did It Again       211160     False  2000   \n1       blink-182    All The Small Things       167066     False  1999   \n2      Faith Hill                 Breathe       250546     False  1999   \n3        Bon Jovi            It's My Life       224493     False  2000   \n4          *NSYNC             Bye Bye Bye       200560     False  2000   \n\n   popularity  danceability  energy  key  loudness  mode  speechiness  \\\n0          77         0.751   0.834    1    -5.444     0       0.0437   \n1          79         0.434   0.897    0    -4.918     1       0.0488   \n2          66         0.529   0.496    7    -9.007     1       0.0290   \n3          78         0.551   0.913    0    -4.063     0       0.0466   \n4          65         0.614   0.928    8    -4.806     0       0.0516   \n\n   acousticness  instrumentalness  liveness  valence    tempo         genre  \n0        0.3000          0.000018    0.3550    0.894   95.053           pop  \n1        0.0103          0.000000    0.6120    0.684  148.726     rock, pop  \n2        0.1730          0.000000    0.2510    0.278  136.859  pop, country  \n3        0.0263          0.000013    0.3470    0.544  119.992   rock, metal  \n4        0.0408          0.001040    0.0845    0.879  172.656           pop  ",
      "text/html": "<div>\n<style scoped>\n    .dataframe tbody tr th:only-of-type {\n        vertical-align: middle;\n    }\n\n    .dataframe tbody tr th {\n        vertical-align: top;\n    }\n\n    .dataframe thead th {\n        text-align: right;\n    }\n</style>\n<table border=\"1\" class=\"dataframe\">\n  <thead>\n    <tr style=\"text-align: right;\">\n      <th></th>\n      <th>artist</th>\n      <th>song</th>\n      <th>duration_ms</th>\n      <th>explicit</th>\n      <th>year</th>\n      <th>popularity</th>\n      <th>danceability</th>\n      <th>energy</th>\n      <th>key</th>\n      <th>loudness</th>\n      <th>mode</th>\n      <th>speechiness</th>\n      <th>acousticness</th>\n      <th>instrumentalness</th>\n      <th>liveness</th>\n      <th>valence</th>\n      <th>tempo</th>\n      <th>genre</th>\n    </tr>\n  </thead>\n  <tbody>\n    <tr>\n      <th>0</th>\n      <td>Britney Spears</td>\n      <td>Oops!...I Did It Again</td>\n      <td>211160</td>\n      <td>False</td>\n      <td>2000</td>\n      <td>77</td>\n      <td>0.751</td>\n      <td>0.834</td>\n      <td>1</td>\n      <td>-5.444</td>\n      <td>0</td>\n      <td>0.0437</td>\n      <td>0.3000</td>\n      <td>0.000018</td>\n      <td>0.3550</td>\n      <td>0.894</td>\n      <td>95.053</td>\n      <td>pop</td>\n    </tr>\n    <tr>\n      <th>1</th>\n      <td>blink-182</td>\n      <td>All The Small Things</td>\n      <td>167066</td>\n      <td>False</td>\n      <td>1999</td>\n      <td>79</td>\n      <td>0.434</td>\n      <td>0.897</td>\n      <td>0</td>\n      <td>-4.918</td>\n      <td>1</td>\n      <td>0.0488</td>\n      <td>0.0103</td>\n      <td>0.000000</td>\n      <td>0.6120</td>\n      <td>0.684</td>\n      <td>148.726</td>\n      <td>rock, pop</td>\n    </tr>\n    <tr>\n      <th>2</th>\n      <td>Faith Hill</td>\n      <td>Breathe</td>\n      <td>250546</td>\n      <td>False</td>\n      <td>1999</td>\n      <td>66</td>\n      <td>0.529</td>\n      <td>0.496</td>\n      <td>7</td>\n      <td>-9.007</td>\n      <td>1</td>\n      <td>0.0290</td>\n      <td>0.1730</td>\n      <td>0.000000</td>\n      <td>0.2510</td>\n      <td>0.278</td>\n      <td>136.859</td>\n      <td>pop, country</td>\n    </tr>\n    <tr>\n      <th>3</th>\n      <td>Bon Jovi</td>\n      <td>It's My Life</td>\n      <td>224493</td>\n      <td>False</td>\n      <td>2000</td>\n      <td>78</td>\n      <td>0.551</td>\n      <td>0.913</td>\n      <td>0</td>\n      <td>-4.063</td>\n      <td>0</td>\n      <td>0.0466</td>\n      <td>0.0263</td>\n      <td>0.000013</td>\n      <td>0.3470</td>\n      <td>0.544</td>\n      <td>119.992</td>\n      <td>rock, metal</td>\n    </tr>\n    <tr>\n      <th>4</th>\n      <td>*NSYNC</td>\n      <td>Bye Bye Bye</td>\n      <td>200560</td>\n      <td>False</td>\n      <td>2000</td>\n      <td>65</td>\n      <td>0.614</td>\n      <td>0.928</td>\n      <td>8</td>\n      <td>-4.806</td>\n      <td>0</td>\n      <td>0.0516</td>\n      <td>0.0408</td>\n      <td>0.001040</td>\n      <td>0.0845</td>\n      <td>0.879</td>\n      <td>172.656</td>\n      <td>pop</td>\n    </tr>\n  </tbody>\n</table>\n</div>"
     },
     "execution_count": 2,
     "metadata": {},
     "output_type": "execute_result"
    }
   ],
   "source": [
    "# To view a concise format of the dataset, we ue the head method\n",
    "# It shows the first 5 instances to help us understand the main contents of the dataset\n",
    "spotify_artists.head()"
   ],
   "metadata": {
    "collapsed": false,
    "pycharm": {
     "name": "#%%\n"
    }
   }
  },
  {
   "cell_type": "code",
   "execution_count": 4,
   "outputs": [
    {
     "data": {
      "text/plain": "         song\ncount    2000\nunique   1879\ntop     Sorry\nfreq        5",
      "text/html": "<div>\n<style scoped>\n    .dataframe tbody tr th:only-of-type {\n        vertical-align: middle;\n    }\n\n    .dataframe tbody tr th {\n        vertical-align: top;\n    }\n\n    .dataframe thead th {\n        text-align: right;\n    }\n</style>\n<table border=\"1\" class=\"dataframe\">\n  <thead>\n    <tr style=\"text-align: right;\">\n      <th></th>\n      <th>song</th>\n    </tr>\n  </thead>\n  <tbody>\n    <tr>\n      <th>count</th>\n      <td>2000</td>\n    </tr>\n    <tr>\n      <th>unique</th>\n      <td>1879</td>\n    </tr>\n    <tr>\n      <th>top</th>\n      <td>Sorry</td>\n    </tr>\n    <tr>\n      <th>freq</th>\n      <td>5</td>\n    </tr>\n  </tbody>\n</table>\n</div>"
     },
     "execution_count": 4,
     "metadata": {},
     "output_type": "execute_result"
    }
   ],
   "source": [
    "# To check information about a feature, enter it's column label and use the describe function\n",
    "# From the output returned, we can see that:\n",
    "# There are 2000 instance names under \"song\" column, out of which 1879 are unique instances, where \"Sorry\" is the most frequently occurring instance with a frequency of 5\n",
    "spotify_artists[[\"song\"]].describe()"
   ],
   "metadata": {
    "collapsed": false,
    "pycharm": {
     "name": "#%%\n"
    }
   }
  },
  {
   "cell_type": "code",
   "execution_count": 5,
   "outputs": [
    {
     "data": {
      "text/plain": "song                      \nSorry                         5\nRise                          3\nCloser                        3\nMercy                         3\nIt's My Life                  3\n                             ..\nHey Baby                      1\nHeroes (we could be)          1\nHero (feat. Josey Scott)      1\nHere's to Never Growing Up    1\nÉchame La Culpa               1\nLength: 1879, dtype: int64"
     },
     "execution_count": 5,
     "metadata": {},
     "output_type": "execute_result"
    }
   ],
   "source": [
    "# The value_count method allows us to check the frequency of usage for each instance\n",
    "spotify_artists[[\"song\"]].value_counts()\n",
    "\n",
    "# We can use to normalize parameter to represent the same result, but in percentage\n",
    "\n",
    "# spotify_artists[[\"song\"]].value_counts(normalize=True)"
   ],
   "metadata": {
    "collapsed": false,
    "pycharm": {
     "name": "#%%\n"
    }
   }
  },
  {
   "cell_type": "code",
   "execution_count": 7,
   "outputs": [
    {
     "data": {
      "text/plain": "duration_ms    228748.1245\ndtype: float64"
     },
     "execution_count": 7,
     "metadata": {},
     "output_type": "execute_result"
    }
   ],
   "source": [
    "# We can check the mean value of a feature by using the mean method and passing the feature name\n",
    "spotify_artists[[\"duration_ms\"]].mean()"
   ],
   "metadata": {
    "collapsed": false,
    "pycharm": {
     "name": "#%%\n"
    }
   }
  },
  {
   "cell_type": "code",
   "execution_count": 9,
   "outputs": [
    {
     "data": {
      "text/plain": "                                                    duration_ms\nsong                                                           \n#SELFIE - Original Mix                                 183750.0\n#thatPOWER                                             279506.0\n'Till I Collapse                                       297786.0\n(When You Gonna) Give It Up to Me (feat. Keyshi...     243880.0\n...Ready For It?                                       208186.0\n...                                                         ...\nno tears left to cry                                   205920.0\noui                                                    238320.0\nrockstar (feat. 21 Savage)                             218146.0\nwe fell in love in october                             184153.0\nÉchame La Culpa                                        173720.0\n\n[1879 rows x 1 columns]",
      "text/html": "<div>\n<style scoped>\n    .dataframe tbody tr th:only-of-type {\n        vertical-align: middle;\n    }\n\n    .dataframe tbody tr th {\n        vertical-align: top;\n    }\n\n    .dataframe thead th {\n        text-align: right;\n    }\n</style>\n<table border=\"1\" class=\"dataframe\">\n  <thead>\n    <tr style=\"text-align: right;\">\n      <th></th>\n      <th>duration_ms</th>\n    </tr>\n    <tr>\n      <th>song</th>\n      <th></th>\n    </tr>\n  </thead>\n  <tbody>\n    <tr>\n      <th>#SELFIE - Original Mix</th>\n      <td>183750.0</td>\n    </tr>\n    <tr>\n      <th>#thatPOWER</th>\n      <td>279506.0</td>\n    </tr>\n    <tr>\n      <th>'Till I Collapse</th>\n      <td>297786.0</td>\n    </tr>\n    <tr>\n      <th>(When You Gonna) Give It Up to Me (feat. Keyshia Cole) - Radio Version</th>\n      <td>243880.0</td>\n    </tr>\n    <tr>\n      <th>...Ready For It?</th>\n      <td>208186.0</td>\n    </tr>\n    <tr>\n      <th>...</th>\n      <td>...</td>\n    </tr>\n    <tr>\n      <th>no tears left to cry</th>\n      <td>205920.0</td>\n    </tr>\n    <tr>\n      <th>oui</th>\n      <td>238320.0</td>\n    </tr>\n    <tr>\n      <th>rockstar (feat. 21 Savage)</th>\n      <td>218146.0</td>\n    </tr>\n    <tr>\n      <th>we fell in love in october</th>\n      <td>184153.0</td>\n    </tr>\n    <tr>\n      <th>Échame La Culpa</th>\n      <td>173720.0</td>\n    </tr>\n  </tbody>\n</table>\n<p>1879 rows × 1 columns</p>\n</div>"
     },
     "execution_count": 9,
     "metadata": {},
     "output_type": "execute_result"
    }
   ],
   "source": [
    "# We can visualize the mean values sorted for each instance by using the groupby method and passing the feature names to it\n",
    "spotify_artists.groupby(\"song\")[[\"duration_ms\"]].mean()\n",
    "\n",
    "# We can also use multiple aggregations by using the agg method and passing the parameters needed\n",
    "\n",
    "# spotify_artists.groupby(\"song\")[[\"duration_ms\"]].agg((\"mean\", \"median\", \"min\", \"max\"))"
   ],
   "metadata": {
    "collapsed": false,
    "pycharm": {
     "name": "#%%\n"
    }
   }
  },
  {
   "cell_type": "code",
   "execution_count": 10,
   "outputs": [
    {
     "data": {
      "text/plain": "                                                 duration_ms\nsong                                                        \nOld Town Road                                       113000.0\nPanini                                              114893.0\nJocelyn Flores                                      119133.0\nchanges                                             121886.0\nGucci Gang                                          124055.0\n...                                                      ...\nDays Go By                                          432146.0\nLoveStoned / I Think She Knows (Interlude)          444333.0\nWhat Goes Around.../...Comes Around (Interlude)     448573.0\nAnother Chance                                      452906.0\nMirrors                                             484146.0\n\n[1879 rows x 1 columns]",
      "text/html": "<div>\n<style scoped>\n    .dataframe tbody tr th:only-of-type {\n        vertical-align: middle;\n    }\n\n    .dataframe tbody tr th {\n        vertical-align: top;\n    }\n\n    .dataframe thead th {\n        text-align: right;\n    }\n</style>\n<table border=\"1\" class=\"dataframe\">\n  <thead>\n    <tr style=\"text-align: right;\">\n      <th></th>\n      <th>duration_ms</th>\n    </tr>\n    <tr>\n      <th>song</th>\n      <th></th>\n    </tr>\n  </thead>\n  <tbody>\n    <tr>\n      <th>Old Town Road</th>\n      <td>113000.0</td>\n    </tr>\n    <tr>\n      <th>Panini</th>\n      <td>114893.0</td>\n    </tr>\n    <tr>\n      <th>Jocelyn Flores</th>\n      <td>119133.0</td>\n    </tr>\n    <tr>\n      <th>changes</th>\n      <td>121886.0</td>\n    </tr>\n    <tr>\n      <th>Gucci Gang</th>\n      <td>124055.0</td>\n    </tr>\n    <tr>\n      <th>...</th>\n      <td>...</td>\n    </tr>\n    <tr>\n      <th>Days Go By</th>\n      <td>432146.0</td>\n    </tr>\n    <tr>\n      <th>LoveStoned / I Think She Knows (Interlude)</th>\n      <td>444333.0</td>\n    </tr>\n    <tr>\n      <th>What Goes Around.../...Comes Around (Interlude)</th>\n      <td>448573.0</td>\n    </tr>\n    <tr>\n      <th>Another Chance</th>\n      <td>452906.0</td>\n    </tr>\n    <tr>\n      <th>Mirrors</th>\n      <td>484146.0</td>\n    </tr>\n  </tbody>\n</table>\n<p>1879 rows × 1 columns</p>\n</div>"
     },
     "execution_count": 10,
     "metadata": {},
     "output_type": "execute_result"
    }
   ],
   "source": [
    "# We can use the sort_values method to sort the data\n",
    "spotify_artists.groupby(\"song\")[[\"duration_ms\"]].mean().sort_values(by = \"duration_ms\")\n",
    "# As we can see, the list has been sorted in ascending order according to the song duration"
   ],
   "metadata": {
    "collapsed": false,
    "pycharm": {
     "name": "#%%\n"
    }
   }
  }
 ],
 "metadata": {
  "kernelspec": {
   "display_name": "Python 3",
   "language": "python",
   "name": "python3"
  },
  "language_info": {
   "codemirror_mode": {
    "name": "ipython",
    "version": 2
   },
   "file_extension": ".py",
   "mimetype": "text/x-python",
   "name": "python",
   "nbconvert_exporter": "python",
   "pygments_lexer": "ipython2",
   "version": "2.7.6"
  }
 },
 "nbformat": 4,
 "nbformat_minor": 0
}