{
 "cells": [
  {
   "cell_type": "markdown",
   "source": [
    "# DATA NORMALIZATION\n",
    "This process allows the values in our dataset to share a common property or be bound by a specific limit\n",
    "There are multiple normalization techniques:\n",
    "    -**Z-score normalization:** Data is transformed, such that mean is 0 and standard deviation is 1\n",
    "    This is suitable in most cases unless provided with upper and lower bounds\n",
    "    $NormalizedValue = (value - mean)/StandardDeviation$\n",
    "    -**Min max normalization:** Data is transformed using an upper and lower bound set by the user\n",
    "    $NormalizedValue = [{(value-min)/(max-min)}*(upper-lower)]+lower$\n",
    "    This is suitable for cases without outliers\n",
    "    -**Logarithmic transformation:** Data is transformed by replacing the values with its logarithm\n",
    "    $NormalizedValue = log(value)$\n",
    "    This is suitable in cases where there are outlier values"
   ],
   "metadata": {
    "collapsed": false,
    "pycharm": {
     "name": "#%% md\n"
    }
   }
  },
  {
   "cell_type": "code",
   "execution_count": 5,
   "outputs": [],
   "source": [
    "import pandas as pd\n",
    "%matplotlib inline"
   ],
   "metadata": {
    "collapsed": false,
    "pycharm": {
     "name": "#%%\n"
    }
   }
  },
  {
   "cell_type": "code",
   "execution_count": 6,
   "outputs": [
    {
     "data": {
      "text/plain": "           artist                    song  duration_ms  explicit  year  \\\n0  Britney Spears  Oops!...I Did It Again       211160     False  2000   \n1       blink-182    All The Small Things       167066     False  1999   \n2      Faith Hill                 Breathe       250546     False  1999   \n3        Bon Jovi            It's My Life       224493     False  2000   \n4          *NSYNC             Bye Bye Bye       200560     False  2000   \n\n   popularity  danceability  energy  key  loudness  mode  speechiness  \\\n0          77         0.751   0.834    1    -5.444     0       0.0437   \n1          79         0.434   0.897    0    -4.918     1       0.0488   \n2          66         0.529   0.496    7    -9.007     1       0.0290   \n3          78         0.551   0.913    0    -4.063     0       0.0466   \n4          65         0.614   0.928    8    -4.806     0       0.0516   \n\n   acousticness  instrumentalness  liveness  valence    tempo         genre  \n0        0.3000          0.000018    0.3550    0.894   95.053           pop  \n1        0.0103          0.000000    0.6120    0.684  148.726     rock, pop  \n2        0.1730          0.000000    0.2510    0.278  136.859  pop, country  \n3        0.0263          0.000013    0.3470    0.544  119.992   rock, metal  \n4        0.0408          0.001040    0.0845    0.879  172.656           pop  ",
      "text/html": "<div>\n<style scoped>\n    .dataframe tbody tr th:only-of-type {\n        vertical-align: middle;\n    }\n\n    .dataframe tbody tr th {\n        vertical-align: top;\n    }\n\n    .dataframe thead th {\n        text-align: right;\n    }\n</style>\n<table border=\"1\" class=\"dataframe\">\n  <thead>\n    <tr style=\"text-align: right;\">\n      <th></th>\n      <th>artist</th>\n      <th>song</th>\n      <th>duration_ms</th>\n      <th>explicit</th>\n      <th>year</th>\n      <th>popularity</th>\n      <th>danceability</th>\n      <th>energy</th>\n      <th>key</th>\n      <th>loudness</th>\n      <th>mode</th>\n      <th>speechiness</th>\n      <th>acousticness</th>\n      <th>instrumentalness</th>\n      <th>liveness</th>\n      <th>valence</th>\n      <th>tempo</th>\n      <th>genre</th>\n    </tr>\n  </thead>\n  <tbody>\n    <tr>\n      <th>0</th>\n      <td>Britney Spears</td>\n      <td>Oops!...I Did It Again</td>\n      <td>211160</td>\n      <td>False</td>\n      <td>2000</td>\n      <td>77</td>\n      <td>0.751</td>\n      <td>0.834</td>\n      <td>1</td>\n      <td>-5.444</td>\n      <td>0</td>\n      <td>0.0437</td>\n      <td>0.3000</td>\n      <td>0.000018</td>\n      <td>0.3550</td>\n      <td>0.894</td>\n      <td>95.053</td>\n      <td>pop</td>\n    </tr>\n    <tr>\n      <th>1</th>\n      <td>blink-182</td>\n      <td>All The Small Things</td>\n      <td>167066</td>\n      <td>False</td>\n      <td>1999</td>\n      <td>79</td>\n      <td>0.434</td>\n      <td>0.897</td>\n      <td>0</td>\n      <td>-4.918</td>\n      <td>1</td>\n      <td>0.0488</td>\n      <td>0.0103</td>\n      <td>0.000000</td>\n      <td>0.6120</td>\n      <td>0.684</td>\n      <td>148.726</td>\n      <td>rock, pop</td>\n    </tr>\n    <tr>\n      <th>2</th>\n      <td>Faith Hill</td>\n      <td>Breathe</td>\n      <td>250546</td>\n      <td>False</td>\n      <td>1999</td>\n      <td>66</td>\n      <td>0.529</td>\n      <td>0.496</td>\n      <td>7</td>\n      <td>-9.007</td>\n      <td>1</td>\n      <td>0.0290</td>\n      <td>0.1730</td>\n      <td>0.000000</td>\n      <td>0.2510</td>\n      <td>0.278</td>\n      <td>136.859</td>\n      <td>pop, country</td>\n    </tr>\n    <tr>\n      <th>3</th>\n      <td>Bon Jovi</td>\n      <td>It's My Life</td>\n      <td>224493</td>\n      <td>False</td>\n      <td>2000</td>\n      <td>78</td>\n      <td>0.551</td>\n      <td>0.913</td>\n      <td>0</td>\n      <td>-4.063</td>\n      <td>0</td>\n      <td>0.0466</td>\n      <td>0.0263</td>\n      <td>0.000013</td>\n      <td>0.3470</td>\n      <td>0.544</td>\n      <td>119.992</td>\n      <td>rock, metal</td>\n    </tr>\n    <tr>\n      <th>4</th>\n      <td>*NSYNC</td>\n      <td>Bye Bye Bye</td>\n      <td>200560</td>\n      <td>False</td>\n      <td>2000</td>\n      <td>65</td>\n      <td>0.614</td>\n      <td>0.928</td>\n      <td>8</td>\n      <td>-4.806</td>\n      <td>0</td>\n      <td>0.0516</td>\n      <td>0.0408</td>\n      <td>0.001040</td>\n      <td>0.0845</td>\n      <td>0.879</td>\n      <td>172.656</td>\n      <td>pop</td>\n    </tr>\n  </tbody>\n</table>\n</div>"
     },
     "execution_count": 6,
     "metadata": {},
     "output_type": "execute_result"
    }
   ],
   "source": [
    "music = pd.read_csv(\"data/songs_normalize.csv\")\n",
    "music.head()"
   ],
   "metadata": {
    "collapsed": false,
    "pycharm": {
     "name": "#%%\n"
    }
   }
  },
  {
   "cell_type": "code",
   "execution_count": 7,
   "outputs": [
    {
     "data": {
      "text/plain": "         duration_ms\ncount    2000.000000\nmean   228748.124500\nstd     39136.569008\nmin    113000.000000\n25%    203580.000000\n50%    223279.500000\n75%    248133.000000\nmax    484146.000000",
      "text/html": "<div>\n<style scoped>\n    .dataframe tbody tr th:only-of-type {\n        vertical-align: middle;\n    }\n\n    .dataframe tbody tr th {\n        vertical-align: top;\n    }\n\n    .dataframe thead th {\n        text-align: right;\n    }\n</style>\n<table border=\"1\" class=\"dataframe\">\n  <thead>\n    <tr style=\"text-align: right;\">\n      <th></th>\n      <th>duration_ms</th>\n    </tr>\n  </thead>\n  <tbody>\n    <tr>\n      <th>count</th>\n      <td>2000.000000</td>\n    </tr>\n    <tr>\n      <th>mean</th>\n      <td>228748.124500</td>\n    </tr>\n    <tr>\n      <th>std</th>\n      <td>39136.569008</td>\n    </tr>\n    <tr>\n      <th>min</th>\n      <td>113000.000000</td>\n    </tr>\n    <tr>\n      <th>25%</th>\n      <td>203580.000000</td>\n    </tr>\n    <tr>\n      <th>50%</th>\n      <td>223279.500000</td>\n    </tr>\n    <tr>\n      <th>75%</th>\n      <td>248133.000000</td>\n    </tr>\n    <tr>\n      <th>max</th>\n      <td>484146.000000</td>\n    </tr>\n  </tbody>\n</table>\n</div>"
     },
     "execution_count": 7,
     "metadata": {},
     "output_type": "execute_result"
    }
   ],
   "source": [
    "music[[\"duration_ms\"]].describe()"
   ],
   "metadata": {
    "collapsed": false,
    "pycharm": {
     "name": "#%%\n"
    }
   }
  },
  {
   "cell_type": "code",
   "execution_count": 9,
   "outputs": [
    {
     "data": {
      "text/plain": "<AxesSubplot:ylabel='Frequency'>"
     },
     "execution_count": 9,
     "metadata": {},
     "output_type": "execute_result"
    },
    {
     "data": {
      "text/plain": "<Figure size 720x432 with 1 Axes>",
      "image/png": "[encoded data removed]"
     },
     "metadata": {
      "needs_background": "light"
     },
     "output_type": "display_data"
    }
   ],
   "source": [
    "# bins represent the number of histogram bars in our graph\n",
    "music[[\"duration_ms\"]].plot(kind=\"hist\", bins=20, figsize=(10, 6))"
   ],
   "metadata": {
    "collapsed": false,
    "pycharm": {
     "name": "#%%\n"
    }
   }
  },
  {
   "cell_type": "markdown",
   "source": [
    "**scikit-learn** package provides us with various tools and functions used for data transformation\n",
    "We will use the **min-max scaler** object from the **preprocessing** subpackage"
   ],
   "metadata": {
    "collapsed": false,
    "pycharm": {
     "name": "#%% md\n"
    }
   }
  },
  {
   "cell_type": "code",
   "execution_count": 11,
   "outputs": [],
   "source": [
    "from sklearn.preprocessing import MinMaxScaler"
   ],
   "metadata": {
    "collapsed": false,
    "pycharm": {
     "name": "#%%\n"
    }
   }
  },
  {
   "cell_type": "code",
   "execution_count": 12,
   "outputs": [
    {
     "data": {
      "text/plain": "array([[0.26447813],\n       [0.14567313],\n       [0.37059809],\n       ...,\n       [0.23600685],\n       [0.15635087],\n       [0.27557888]])"
     },
     "execution_count": 12,
     "metadata": {},
     "output_type": "execute_result"
    }
   ],
   "source": [
    "# The working of the min-max algorithm has been explained in the first block\n",
    "duration_minmax = MinMaxScaler().fit_transform(music[[\"duration_ms\"]])\n",
    "duration_minmax\n",
    "# From the output, we can see the values under the \"duration_ms\" feature have been normalized"
   ],
   "metadata": {
    "collapsed": false,
    "pycharm": {
     "name": "#%%\n"
    }
   }
  },
  {
   "cell_type": "code",
   "execution_count": 14,
   "outputs": [
    {
     "data": {
      "text/plain": "      Duration in ms\n0           0.264478\n1           0.145673\n2           0.370598\n3           0.300402\n4           0.235918\n...              ...\n1995        0.183286\n1996        0.176281\n1997        0.236007\n1998        0.156351\n1999        0.275579\n\n[2000 rows x 1 columns]",
      "text/html": "<div>\n<style scoped>\n    .dataframe tbody tr th:only-of-type {\n        vertical-align: middle;\n    }\n\n    .dataframe tbody tr th {\n        vertical-align: top;\n    }\n\n    .dataframe thead th {\n        text-align: right;\n    }\n</style>\n<table border=\"1\" class=\"dataframe\">\n  <thead>\n    <tr style=\"text-align: right;\">\n      <th></th>\n      <th>Duration in ms</th>\n    </tr>\n  </thead>\n  <tbody>\n    <tr>\n      <th>0</th>\n      <td>0.264478</td>\n    </tr>\n    <tr>\n      <th>1</th>\n      <td>0.145673</td>\n    </tr>\n    <tr>\n      <th>2</th>\n      <td>0.370598</td>\n    </tr>\n    <tr>\n      <th>3</th>\n      <td>0.300402</td>\n    </tr>\n    <tr>\n      <th>4</th>\n      <td>0.235918</td>\n    </tr>\n    <tr>\n      <th>...</th>\n      <td>...</td>\n    </tr>\n    <tr>\n      <th>1995</th>\n      <td>0.183286</td>\n    </tr>\n    <tr>\n      <th>1996</th>\n      <td>0.176281</td>\n    </tr>\n    <tr>\n      <th>1997</th>\n      <td>0.236007</td>\n    </tr>\n    <tr>\n      <th>1998</th>\n      <td>0.156351</td>\n    </tr>\n    <tr>\n      <th>1999</th>\n      <td>0.275579</td>\n    </tr>\n  </tbody>\n</table>\n<p>2000 rows × 1 columns</p>\n</div>"
     },
     "execution_count": 14,
     "metadata": {},
     "output_type": "execute_result"
    }
   ],
   "source": [
    "# We will fit the above data in a pandas DataFrame\n",
    "duration_minmax = pd.DataFrame(duration_minmax, columns=[\"Duration in ms\"])\n",
    "duration_minmax"
   ],
   "metadata": {
    "collapsed": false,
    "pycharm": {
     "name": "#%%\n"
    }
   }
  },
  {
   "cell_type": "code",
   "execution_count": 15,
   "outputs": [
    {
     "data": {
      "text/plain": "       Duration in ms\ncount     2000.000000\nmean         0.311867\nstd          0.105448\nmin          0.000000\n25%          0.244055\n50%          0.297132\n75%          0.364097\nmax          1.000000",
      "text/html": "<div>\n<style scoped>\n    .dataframe tbody tr th:only-of-type {\n        vertical-align: middle;\n    }\n\n    .dataframe tbody tr th {\n        vertical-align: top;\n    }\n\n    .dataframe thead th {\n        text-align: right;\n    }\n</style>\n<table border=\"1\" class=\"dataframe\">\n  <thead>\n    <tr style=\"text-align: right;\">\n      <th></th>\n      <th>Duration in ms</th>\n    </tr>\n  </thead>\n  <tbody>\n    <tr>\n      <th>count</th>\n      <td>2000.000000</td>\n    </tr>\n    <tr>\n      <th>mean</th>\n      <td>0.311867</td>\n    </tr>\n    <tr>\n      <th>std</th>\n      <td>0.105448</td>\n    </tr>\n    <tr>\n      <th>min</th>\n      <td>0.000000</td>\n    </tr>\n    <tr>\n      <th>25%</th>\n      <td>0.244055</td>\n    </tr>\n    <tr>\n      <th>50%</th>\n      <td>0.297132</td>\n    </tr>\n    <tr>\n      <th>75%</th>\n      <td>0.364097</td>\n    </tr>\n    <tr>\n      <th>max</th>\n      <td>1.000000</td>\n    </tr>\n  </tbody>\n</table>\n</div>"
     },
     "execution_count": 15,
     "metadata": {},
     "output_type": "execute_result"
    }
   ],
   "source": [
    "duration_minmax.describe()\n",
    "# We can compare this data with the previously described data\n",
    "# Thus we can see the results of min-max algorithm. The minimum bound is now 0 and the maximum bound has been set to 1"
   ],
   "metadata": {
    "collapsed": false,
    "pycharm": {
     "name": "#%%\n"
    }
   }
  },
  {
   "cell_type": "code",
   "execution_count": 18,
   "outputs": [
    {
     "data": {
      "text/plain": "<AxesSubplot:ylabel='Frequency'>"
     },
     "execution_count": 18,
     "metadata": {},
     "output_type": "execute_result"
    },
    {
     "data": {
      "text/plain": "<Figure size 720x432 with 1 Axes>",
      "image/png": "[encoded data removed]"
     },
     "metadata": {
      "needs_background": "light"
     },
     "output_type": "display_data"
    }
   ],
   "source": [
    "duration_minmax.plot(kind=\"hist\", bins=20, figsize=(10, 6))"
   ],
   "metadata": {
    "collapsed": false,
    "pycharm": {
     "name": "#%%\n"
    }
   }
  },
  {
   "cell_type": "markdown",
   "source": [
    "For this case, we can also perform the **z-score normalization** in the following way"
   ],
   "metadata": {
    "collapsed": false,
    "pycharm": {
     "name": "#%% md\n"
    }
   }
  },
  {
   "cell_type": "code",
   "execution_count": 21,
   "outputs": [],
   "source": [
    "from sklearn.preprocessing import StandardScaler"
   ],
   "metadata": {
    "collapsed": false,
    "pycharm": {
     "name": "#%%\n"
    }
   }
  },
  {
   "cell_type": "code",
   "execution_count": 22,
   "outputs": [
    {
     "data": {
      "text/plain": "      Duration in ms\n0          -0.449516\n1          -1.576468\n2           0.557109\n3          -0.108752\n4          -0.720430\n...              ...\n1995       -1.219679\n1996       -1.286130\n1997       -0.719587\n1998       -1.475182\n1999       -0.344218\n\n[2000 rows x 1 columns]",
      "text/html": "<div>\n<style scoped>\n    .dataframe tbody tr th:only-of-type {\n        vertical-align: middle;\n    }\n\n    .dataframe tbody tr th {\n        vertical-align: top;\n    }\n\n    .dataframe thead th {\n        text-align: right;\n    }\n</style>\n<table border=\"1\" class=\"dataframe\">\n  <thead>\n    <tr style=\"text-align: right;\">\n      <th></th>\n      <th>Duration in ms</th>\n    </tr>\n  </thead>\n  <tbody>\n    <tr>\n      <th>0</th>\n      <td>-0.449516</td>\n    </tr>\n    <tr>\n      <th>1</th>\n      <td>-1.576468</td>\n    </tr>\n    <tr>\n      <th>2</th>\n      <td>0.557109</td>\n    </tr>\n    <tr>\n      <th>3</th>\n      <td>-0.108752</td>\n    </tr>\n    <tr>\n      <th>4</th>\n      <td>-0.720430</td>\n    </tr>\n    <tr>\n      <th>...</th>\n      <td>...</td>\n    </tr>\n    <tr>\n      <th>1995</th>\n      <td>-1.219679</td>\n    </tr>\n    <tr>\n      <th>1996</th>\n      <td>-1.286130</td>\n    </tr>\n    <tr>\n      <th>1997</th>\n      <td>-0.719587</td>\n    </tr>\n    <tr>\n      <th>1998</th>\n      <td>-1.475182</td>\n    </tr>\n    <tr>\n      <th>1999</th>\n      <td>-0.344218</td>\n    </tr>\n  </tbody>\n</table>\n<p>2000 rows × 1 columns</p>\n</div>"
     },
     "execution_count": 22,
     "metadata": {},
     "output_type": "execute_result"
    }
   ],
   "source": [
    "# We will now perform the same steps we did while\n",
    "duration_zscore = StandardScaler().fit_transform(music[[\"duration_ms\"]])\n",
    "duration_zscore = pd.DataFrame(duration_zscore, columns=[\"Duration in ms\"])\n",
    "duration_zscore"
   ],
   "metadata": {
    "collapsed": false,
    "pycharm": {
     "name": "#%%\n"
    }
   }
  },
  {
   "cell_type": "code",
   "execution_count": 24,
   "outputs": [
    {
     "data": {
      "text/plain": "       Duration in ms\ncount    2.000000e+03\nmean    -1.421085e-16\nstd      1.000250e+00\nmin     -2.958284e+00\n25%     -6.432454e-01\n50%     -1.397668e-01\n75%      4.954375e-01\nmax      6.527444e+00",
      "text/html": "<div>\n<style scoped>\n    .dataframe tbody tr th:only-of-type {\n        vertical-align: middle;\n    }\n\n    .dataframe tbody tr th {\n        vertical-align: top;\n    }\n\n    .dataframe thead th {\n        text-align: right;\n    }\n</style>\n<table border=\"1\" class=\"dataframe\">\n  <thead>\n    <tr style=\"text-align: right;\">\n      <th></th>\n      <th>Duration in ms</th>\n    </tr>\n  </thead>\n  <tbody>\n    <tr>\n      <th>count</th>\n      <td>2.000000e+03</td>\n    </tr>\n    <tr>\n      <th>mean</th>\n      <td>-1.421085e-16</td>\n    </tr>\n    <tr>\n      <th>std</th>\n      <td>1.000250e+00</td>\n    </tr>\n    <tr>\n      <th>min</th>\n      <td>-2.958284e+00</td>\n    </tr>\n    <tr>\n      <th>25%</th>\n      <td>-6.432454e-01</td>\n    </tr>\n    <tr>\n      <th>50%</th>\n      <td>-1.397668e-01</td>\n    </tr>\n    <tr>\n      <th>75%</th>\n      <td>4.954375e-01</td>\n    </tr>\n    <tr>\n      <th>max</th>\n      <td>6.527444e+00</td>\n    </tr>\n  </tbody>\n</table>\n</div>"
     },
     "execution_count": 24,
     "metadata": {},
     "output_type": "execute_result"
    }
   ],
   "source": [
    "duration_zscore.describe()\n",
    "# The changes after applying zscore algorithm can be seen after comparing the output to the initial data\n",
    "# We can see that the standard deviation has become 1 and the minimum and maximum value has become (-2.95) and 6.92 respectively. The mean is also 0"
   ],
   "metadata": {
    "collapsed": false,
    "pycharm": {
     "name": "#%%\n"
    }
   }
  },
  {
   "cell_type": "code",
   "execution_count": 23,
   "outputs": [
    {
     "data": {
      "text/plain": "<AxesSubplot:ylabel='Frequency'>"
     },
     "execution_count": 23,
     "metadata": {},
     "output_type": "execute_result"
    },
    {
     "data": {
      "text/plain": "<Figure size 720x432 with 1 Axes>",
      "image/png": "[encoded data removed]"
     },
     "metadata": {
      "needs_background": "light"
     },
     "output_type": "display_data"
    }
   ],
   "source": [
    "duration_zscore.plot(kind=\"hist\", bins=20, figsize=(10, 6))"
   ],
   "metadata": {
    "collapsed": false,
    "pycharm": {
     "name": "#%%\n"
    }
   }
  },
  {
   "cell_type": "markdown",
   "source": [
    "Thus we can see from all the histograms, that even after normalizing our data, the actual feature values never change, only specific property or the limits of the dataset have been changed"
   ],
   "metadata": {
    "collapsed": false,
    "pycharm": {
     "name": "#%% md\n"
    }
   }
  }
 ],
 "metadata": {
  "kernelspec": {
   "display_name": "Python 3",
   "language": "python",
   "name": "python3"
  },
  "language_info": {
   "codemirror_mode": {
    "name": "ipython",
    "version": 2
   },
   "file_extension": ".py",
   "mimetype": "text/x-python",
   "name": "python",
   "nbconvert_exporter": "python",
   "pygments_lexer": "ipython2",
   "version": "2.7.6"
  }
 },
 "nbformat": 4,
 "nbformat_minor": 0
}